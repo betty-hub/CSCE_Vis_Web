{
 "cells": [
  {
   "cell_type": "code",
   "execution_count": 1,
   "metadata": {},
   "outputs": [
    {
     "data": {
      "text/plain": [
       "Index(['YearStart', 'YearEnd', 'LocationAbbr', 'LocationDesc', 'Datasource',\n",
       "       'Class', 'Topic', 'Question', 'Data_Value_Unit', 'Data_Value_Type',\n",
       "       'Data_Value', 'Data_Value_Alt', 'Data_Value_Footnote_Symbol',\n",
       "       'Data_Value_Footnote', 'Low_Confidence_Limit', 'High_Confidence_Limit',\n",
       "       'Sample_Size', 'Total', 'Ageyears', 'Education', 'Sex', 'Income',\n",
       "       'RaceEthnicity', 'GeoLocation', 'ClassID', 'TopicID', 'QuestionID',\n",
       "       'DataValueTypeID', 'LocationID', 'StratificationCategory1',\n",
       "       'Stratification1', 'StratificationCategoryId1', 'StratificationID1'],\n",
       "      dtype='object')"
      ]
     },
     "execution_count": 1,
     "metadata": {},
     "output_type": "execute_result"
    }
   ],
   "source": [
    "import pandas as pd\n",
    "\n",
    "df = pd.read_csv('./Data/raw1.csv')\n",
    "\n",
    "df.columns = df.columns.str.strip().str.replace(' ', '_').str.replace(r'[()/]', '', regex=True)\n",
    "df.columns"
   ]
  },
  {
   "cell_type": "code",
   "execution_count": 17,
   "metadata": {},
   "outputs": [
    {
     "name": "stdout",
     "output_type": "stream",
     "text": [
      "[2011 2012 2013 2014 2015 2016 2017 2018 2019 2020 2021 2022 2023]\n",
      "[2011 2012 2013 2014 2015 2016 2017 2018 2019 2020 2021 2022 2023]\n",
      "['AK' 'AL' 'AR' 'AZ' 'CA' 'CO' 'CT' 'DC' 'DE' 'FL' 'GA' 'HI' 'IA' 'ID'\n",
      " 'IL' 'IN' 'KS' 'KY' 'LA' 'MA' 'MD' 'ME' 'MI' 'MN' 'MO' 'MS' 'MT' 'NC'\n",
      " 'ND' 'NE' 'NH' 'NJ' 'NM' 'NV' 'NY' 'OH' 'OK' 'OR' 'PA' 'RI' 'SC' 'SD'\n",
      " 'TN' 'TX' 'US' 'UT' 'VA' 'VT' 'WA' 'WI' 'WV' 'WY' 'PR' 'GU' 'VI']\n",
      "['Alaska' 'Alabama' 'Arkansas' 'Arizona' 'California' 'Colorado'\n",
      " 'Connecticut' 'District of Columbia' 'Delaware' 'Florida' 'Georgia'\n",
      " 'Hawaii' 'Iowa' 'Idaho' 'Illinois' 'Indiana' 'Kansas' 'Kentucky'\n",
      " 'Louisiana' 'Massachusetts' 'Maryland' 'Maine' 'Michigan' 'Minnesota'\n",
      " 'Missouri' 'Mississippi' 'Montana' 'North Carolina' 'North Dakota'\n",
      " 'Nebraska' 'New Hampshire' 'New Jersey' 'New Mexico' 'Nevada' 'New York'\n",
      " 'Ohio' 'Oklahoma' 'Oregon' 'Pennsylvania' 'Rhode Island' 'South Carolina'\n",
      " 'South Dakota' 'Tennessee' 'Texas' 'National' 'Utah' 'Virginia' 'Vermont'\n",
      " 'Washington' 'Wisconsin' 'West Virginia' 'Wyoming' 'Puerto Rico' 'Guam'\n",
      " 'Virgin Islands']\n",
      "['BRFSS']\n",
      "['Obesity / Weight Status' 'Physical Activity' 'Fruits and Vegetables']\n",
      "['Obesity / Weight Status' 'Physical Activity - Behavior'\n",
      " 'Fruits and Vegetables - Behavior']\n",
      "['Percent of adults aged 18 years and older who have obesity'\n",
      " 'Percent of adults who achieve at least 150 minutes a week of moderate-intensity aerobic physical activity or 75 minutes a week of vigorous-intensity aerobic physical activity and engage in muscle-strengthening activities on 2 or more days a week'\n",
      " 'Percent of adults aged 18 years and older who have an overweight classification'\n",
      " 'Percent of adults who engage in muscle-strengthening activities on 2 or more days a week'\n",
      " 'Percent of adults who achieve at least 300 minutes a week of moderate-intensity aerobic physical activity or 150 minutes a week of vigorous-intensity aerobic activity (or an equivalent combination)'\n",
      " 'Percent of adults who engage in no leisure-time physical activity'\n",
      " 'Percent of adults who achieve at least 150 minutes a week of moderate-intensity aerobic physical activity or 75 minutes a week of vigorous-intensity aerobic activity (or an equivalent combination)'\n",
      " 'Percent of adults who report consuming fruit less than one time daily'\n",
      " 'Percent of adults who report consuming vegetables less than one time daily']\n",
      "[2011. 2012. 2013. 2014. 2015. 2016. 2017. 2018. 2019. 2020. 2021.   nan]\n",
      "['Value']\n",
      "[23.3 35.5 21.7 29.5 33.5 28.  28.8 38.7 35.9  nan 26.7 17.3 25.8 32.\n",
      " 19.2 56.2 31.3 30.1 39.9 41.6 45.3 33.8 26.9 67.2 34.9 41.8 37.4 21.1\n",
      " 31.5 30.9 46.5 24.  24.6 28.1 59.3 38.5 38.  33.4 15.7 32.4 33.2 12.5\n",
      " 20.1 36.4 40.9 55.3 27.4 29.3 44.8 37.5 38.2 25.  62.8 38.8 22.7 58.9\n",
      " 51.8 57.9 37.2 63.2 35.7 25.2 38.9 17.4 58.4 24.2 29.8 43.7 26.8 41.9\n",
      " 30.2 21.6 20.7 25.9 34.  16.1 51.9 30.3 33.1 35.6 38.1 40.  25.7 62.\n",
      " 32.7 49.9 28.9 32.2 26.1 42.3 33.6 32.9 26.  32.6 35.3 18.9 52.7 43.3\n",
      " 20.2 55.1 30.8 37.8 23.5 25.1 29.2 19.8 32.3 53.1 57.6 39.3 27.8 37.7\n",
      " 24.5 31.4 23.1 34.1 26.6 57.4 56.  40.1 27.  39.5 24.7 36.  58.2 52.2\n",
      " 22.1 22.3 27.2 21.2 22.  31.7 22.2 33.3 46.6 18.1 17.1 38.6 18.8 13.\n",
      " 28.3 35.8 27.9 28.7 14.3 19.6 23.4 30.5 16.3 31.9 37.9 39.  23.2 35.2\n",
      " 23.9 15.6 22.5 43.1 17.7 40.6 21.4 36.6 32.8 40.2 29.1 16.8 44.  34.8\n",
      " 11.1 29.6 12.4 39.8 15.3 22.6 49.4 37.6 34.7 45.4 23.8 20.8 28.4 27.1\n",
      " 20.6 27.3 10.9 25.5 30.4 24.4 25.3 16.5 22.8 52.6 20.9 19.9 25.6 29.4\n",
      " 36.7  7.7 25.4 36.1 48.7 41.3 28.5 34.5 10.7 16.4 42.4 15.  12.  46.3\n",
      " 31.8 28.6 26.4 26.2 17.  42.5 39.6 43.   9.5 13.2 43.4 22.9 36.8 31.6\n",
      " 35.  12.8 53.5 40.8 20.3 43.8 29.  36.2 48.8 21.9 34.6 30.  54.2 23.6\n",
      " 49.  24.8 31.2 49.2 30.6 12.3 27.5 19.1 17.6 18.7 20.4 14.9 45.6 33.9\n",
      " 43.9 36.9 19.3 45.7 31.1 48.5 17.2 41.2 34.4 40.5 33.  51.7 24.9 44.6\n",
      " 20.5 55.4 37.1 44.2 39.4 39.7 27.7  9.9 16.6 39.1 22.4 31.  21.5 28.2\n",
      " 23.  38.3 45.5 18.4  9.7 30.7 18.  12.7 16.7 46.1 45.1 26.3 38.4 32.5\n",
      " 43.6 53.  37.  50.2 45.2 26.5 55.2 59.7 24.1 23.7 13.7 61.6 62.4 59.5\n",
      " 47.9 64.4 20.  50.7 37.3 52.8 57.1 43.2 19.4 47.4 41.5 42.  29.9 34.2\n",
      " 56.8 15.9 19.7 53.4 47.5 42.6 34.3 54.8  9.4 59.4 27.6 47.6 52.5 16.\n",
      " 24.3 56.4 64.3 56.6 32.1 48.6 13.6 48.  21.3 10.8 18.2 60.7 65.3 29.7\n",
      " 66.8 10.6 54.6 50.6 19.  16.9 61.5  8.1 17.5 36.5 14.5 14.6 60.4 39.2\n",
      " 66.  12.1 44.1 55.  35.4 36.3 40.3 48.1 66.2 57.5 68.9 11.4 42.7 63.3\n",
      " 14.2 60.6 64.5 61.8 15.8 19.5 61.9 18.3 10.2 49.6 67.9 44.7 43.5 53.2\n",
      " 41.1 61.2 51.6  8.8 64.8 21.  66.3 44.9 40.7 63.6 13.9 67.5 44.4 64.2\n",
      " 13.3 50.9 48.9 50.3 21.8 51.3 56.5 15.5 51.1 35.1  6.3 10.  11.9 54.5\n",
      "  0.9 71.7 56.9 70.1  8.6 66.1 15.2 46.7 46.  18.6 17.9 55.9 70.2  8.5\n",
      " 51.  53.9 50.8 41.  47.  50.4 15.4 46.4  2.1 50.1 11.5 53.8 33.7 57.3\n",
      " 49.8 52.4 45.8 52.1 59.8 49.7 46.8 42.2  6.2 40.4 54.4 42.9 65.4 54.9\n",
      " 49.3 48.4 58.3 48.2  5.4 62.3 59.9 48.3 52.  11.3 51.2 60.8 14.4 58.5\n",
      " 64.7 62.6 55.8 54.  16.2 61.4 50.  44.5 61.7 63.1  9.3 47.7  5.  13.8\n",
      " 47.3 57.7 57.  45.   3.  44.3 14.7 14.8 57.2 63.8 50.5 61.1 42.8 13.5\n",
      " 60.  65.8 11.  74.6 59.6 10.1 54.3 17.8 55.7  4.6 55.5 49.1 45.9 11.8\n",
      " 51.5 14.  54.1 13.4 18.5 15.1 41.7  8.9 10.5 51.4 47.2 49.5 46.9 11.6\n",
      " 47.8 11.2 12.2 13.1 47.1 14.1 42.1 56.3  4.8 63.5 12.9 63.7 10.3 54.7\n",
      " 59.  55.6 41.4 66.9 56.7 62.2  9.8  6.9 59.1 53.3 53.7  9.1 62.7  8.3\n",
      "  9.2 10.4 75.3 52.9 56.1  6.5 57.8 65.2 59.2  1.9 61.  52.3 12.6 46.2\n",
      " 58.   8.  60.3 53.6  9.6 63.  58.1 70.3 65.   3.2  6.   8.4  5.7  7.6\n",
      " 11.7  8.7 62.5 63.9 60.1 71.6 69.6 58.8 58.7 70.7 66.5 60.2  6.4  8.2\n",
      "  2.3  9.   4.3  6.6  7.1  5.6  2.9  2.   7.9  6.7  7.8  4.4  6.8  5.8\n",
      "  7.2 68.   7.4 58.6 61.3 72.3 69.5 68.6  5.9 66.4 72.6 70.  66.7 60.5\n",
      " 69.3 64.9 70.9  7.  65.7  5.1 63.4  6.1 73.8 62.1 64.1 67.3 67.4 68.3\n",
      " 71.5 71.2  4.  60.9 67.  64.6 67.1  7.3  7.5  4.7  3.6 69.1 65.6 68.2\n",
      " 68.1 77.6 65.1  2.5 70.4  5.2  2.2  3.3  4.5 62.9  3.4  4.1  2.4  5.5\n",
      " 69.  73.1  1.7  3.8  2.8  3.9  5.3 70.6 69.7 71.4  2.6 70.5 65.5 64.\n",
      " 66.6 65.9 70.8 67.8  4.9 68.8 71.1 72.8 73.3  4.2 76.2 69.8 74.9 67.6\n",
      " 71.3 75.1 69.4 68.4 79.3 73.4 76.8 80.  68.7 69.9 75.5 72.9 68.5 74.8\n",
      " 71.8 69.2 76.3 73.5 75.  72.1 73.7 85.3 67.7 76.6]\n",
      "[23.3 35.5 21.7 29.5 33.5 28.  28.8 38.7 35.9  nan 26.7 17.3 25.8 32.\n",
      " 19.2 56.2 31.3 30.1 39.9 41.6 45.3 33.8 26.9 67.2 34.9 41.8 37.4 21.1\n",
      " 31.5 30.9 46.5 24.  24.6 28.1 59.3 38.5 38.  33.4 15.7 32.4 33.2 12.5\n",
      " 20.1 36.4 40.9 55.3 27.4 29.3 44.8 37.5 38.2 25.  62.8 38.8 22.7 58.9\n",
      " 51.8 57.9 37.2 63.2 35.7 25.2 38.9 17.4 58.4 24.2 29.8 43.7 26.8 41.9\n",
      " 30.2 21.6 20.7 25.9 34.  16.1 51.9 30.3 33.1 35.6 38.1 40.  25.7 62.\n",
      " 32.7 49.9 28.9 32.2 26.1 42.3 33.6 32.9 26.  32.6 35.3 18.9 52.7 43.3\n",
      " 20.2 55.1 30.8 37.8 23.5 25.1 29.2 19.8 32.3 53.1 57.6 39.3 27.8 37.7\n",
      " 24.5 31.4 23.1 34.1 26.6 57.4 56.  40.1 27.  39.5 24.7 36.  58.2 52.2\n",
      " 22.1 22.3 27.2 21.2 22.  31.7 22.2 33.3 46.6 18.1 17.1 38.6 18.8 13.\n",
      " 28.3 35.8 27.9 28.7 14.3 19.6 23.4 30.5 16.3 31.9 37.9 39.  23.2 35.2\n",
      " 23.9 15.6 22.5 43.1 17.7 40.6 21.4 36.6 32.8 40.2 29.1 16.8 44.  34.8\n",
      " 11.1 29.6 12.4 39.8 15.3 22.6 49.4 37.6 34.7 45.4 23.8 20.8 28.4 27.1\n",
      " 20.6 27.3 10.9 25.5 30.4 24.4 25.3 16.5 22.8 52.6 20.9 19.9 25.6 29.4\n",
      " 36.7  7.7 25.4 36.1 48.7 41.3 28.5 34.5 10.7 16.4 42.4 15.  12.  46.3\n",
      " 31.8 28.6 26.4 26.2 17.  42.5 39.6 43.   9.5 13.2 43.4 22.9 36.8 31.6\n",
      " 35.  12.8 53.5 40.8 20.3 43.8 29.  36.2 48.8 21.9 34.6 30.  54.2 23.6\n",
      " 49.  24.8 31.2 49.2 30.6 12.3 27.5 19.1 17.6 18.7 20.4 14.9 45.6 33.9\n",
      " 43.9 36.9 19.3 45.7 31.1 48.5 17.2 41.2 34.4 40.5 33.  51.7 24.9 44.6\n",
      " 20.5 55.4 37.1 44.2 39.4 39.7 27.7  9.9 16.6 39.1 22.4 31.  21.5 28.2\n",
      " 23.  38.3 45.5 18.4  9.7 30.7 18.  12.7 16.7 46.1 45.1 26.3 38.4 32.5\n",
      " 43.6 53.  37.  50.2 45.2 26.5 55.2 59.7 24.1 23.7 13.7 61.6 62.4 59.5\n",
      " 47.9 64.4 20.  50.7 37.3 52.8 57.1 43.2 19.4 47.4 41.5 42.  29.9 34.2\n",
      " 56.8 15.9 19.7 53.4 47.5 42.6 34.3 54.8  9.4 59.4 27.6 47.6 52.5 16.\n",
      " 24.3 56.4 64.3 56.6 32.1 48.6 13.6 48.  21.3 10.8 18.2 60.7 65.3 29.7\n",
      " 66.8 10.6 54.6 50.6 19.  16.9 61.5  8.1 17.5 36.5 14.5 14.6 60.4 39.2\n",
      " 66.  12.1 44.1 55.  35.4 36.3 40.3 48.1 66.2 57.5 68.9 11.4 42.7 63.3\n",
      " 14.2 60.6 64.5 61.8 15.8 19.5 61.9 18.3 10.2 49.6 67.9 44.7 43.5 53.2\n",
      " 41.1 61.2 51.6  8.8 64.8 21.  66.3 44.9 40.7 63.6 13.9 67.5 44.4 64.2\n",
      " 13.3 50.9 48.9 50.3 21.8 51.3 56.5 15.5 51.1 35.1  6.3 10.  11.9 54.5\n",
      "  0.9 71.7 56.9 70.1  8.6 66.1 15.2 46.7 46.  18.6 17.9 55.9 70.2  8.5\n",
      " 51.  53.9 50.8 41.  47.  50.4 15.4 46.4  2.1 50.1 11.5 53.8 33.7 57.3\n",
      " 49.8 52.4 45.8 52.1 59.8 49.7 46.8 42.2  6.2 40.4 54.4 42.9 65.4 54.9\n",
      " 49.3 48.4 58.3 48.2  5.4 62.3 59.9 48.3 52.  11.3 51.2 60.8 14.4 58.5\n",
      " 64.7 62.6 55.8 54.  16.2 61.4 50.  44.5 61.7 63.1  9.3 47.7  5.  13.8\n",
      " 47.3 57.7 57.  45.   3.  44.3 14.7 14.8 57.2 63.8 50.5 61.1 42.8 13.5\n",
      " 60.  65.8 11.  74.6 59.6 10.1 54.3 17.8 55.7  4.6 55.5 49.1 45.9 11.8\n",
      " 51.5 14.  54.1 13.4 18.5 15.1 41.7  8.9 10.5 51.4 47.2 49.5 46.9 11.6\n",
      " 47.8 11.2 12.2 13.1 47.1 14.1 42.1 56.3  4.8 63.5 12.9 63.7 10.3 54.7\n",
      " 59.  55.6 41.4 66.9 56.7 62.2  9.8  6.9 59.1 53.3 53.7  9.1 62.7  8.3\n",
      "  9.2 10.4 75.3 52.9 56.1  6.5 57.8 65.2 59.2  1.9 61.  52.3 12.6 46.2\n",
      " 58.   8.  60.3 53.6  9.6 63.  58.1 70.3 65.   3.2  6.   8.4  5.7  7.6\n",
      " 11.7  8.7 62.5 63.9 60.1 71.6 69.6 58.8 58.7 70.7 66.5 60.2  6.4  8.2\n",
      "  2.3  9.   4.3  6.6  7.1  5.6  2.9  2.   7.9  6.7  7.8  4.4  6.8  5.8\n",
      "  7.2 68.   7.4 58.6 61.3 72.3 69.5 68.6  5.9 66.4 72.6 70.  66.7 60.5\n",
      " 69.3 64.9 70.9  7.  65.7  5.1 63.4  6.1 73.8 62.1 64.1 67.3 67.4 68.3\n",
      " 71.5 71.2  4.  60.9 67.  64.6 67.1  7.3  7.5  4.7  3.6 69.1 65.6 68.2\n",
      " 68.1 77.6 65.1  2.5 70.4  5.2  2.2  3.3  4.5 62.9  3.4  4.1  2.4  5.5\n",
      " 69.  73.1  1.7  3.8  2.8  3.9  5.3 70.6 69.7 71.4  2.6 70.5 65.5 64.\n",
      " 66.6 65.9 70.8 67.8  4.9 68.8 71.1 72.8 73.3  4.2 76.2 69.8 74.9 67.6\n",
      " 71.3 75.1 69.4 68.4 79.3 73.4 76.8 80.  68.7 69.9 75.5 72.9 68.5 74.8\n",
      " 71.8 69.2 76.3 73.5 75.  72.1 73.7 85.3 67.7 76.6]\n",
      "[nan '~']\n",
      "[nan 'Data not available because sample size is insufficient.']\n",
      "[16.1 22.7 19.1 24.5 26.2 24.9 21.9 32.7 33.2  nan 23.9 12.5 22.3 24.7\n",
      " 15.1 44.9 28.1 26.1 36.  35.8 41.8 27.8 18.2 63.3 26.8 38.  25.2 16.9\n",
      " 20.4 25.7 32.4 30.  21.3 17.9 24.8 53.2 35.9 34.1 29.1  8.2 25.  17.7\n",
      " 10.2 30.6 35.2 49.5 25.3 24.1 40.7 34.3 29.5 18.5 18.1 54.  17.5 53.1\n",
      " 43.9 48.3 31.2 59.1 33.6 13.1 54.7 20.  37.  24.3 31.5 31.1 14.6 21.6\n",
      " 11.  43.4 20.6 21.4 23.6 22.1 23.2 28.8 51.4 23.3 29.8 37.3 16.3 55.4\n",
      " 59.3 54.9 35.1 26.  18.8 23.1 21.2 28.2 25.4 13.7 19.3 22.  27.3 17.\n",
      " 45.6 39.4 12.3 36.5 47.9 25.9 14.3 16.4 29.4 13.4 34.4 38.5 22.2 44.3\n",
      " 26.9 32.  18.3 45.2 19.6 19.4 35.3 17.3 22.8 27.7 22.5 27.4 46.6 21.8\n",
      " 30.7 20.8 31.8 53.3 45.8 20.2 26.6 17.8 18.6 23.5 25.6 14.1 14.4 35.\n",
      " 15.8 27.2 31.6 15.4 34.5  5.1 24.2 31.9 29.2 26.5 12.9 18.4 28.7 13.8\n",
      " 33.8 36.6 32.5 12.4 35.4 28.5 37.2 11.6 32.2 19.2 24.6 30.2 37.1 29.7\n",
      " 29.9 22.9 18.  37.6 27.6 20.9 14.7 14.5 40.9 31.3 28.   8.5 37.4  6.3\n",
      " 20.3 20.5 34.8 43.1 33.1 31.  42.7 19.9 20.7 19.7 10.4 33.4 24.4 11.3\n",
      " 14.8 12.6 30.8 14.9 13.  34.7 23.  13.2 17.1 16.6 21.7  5.4 35.7 31.7\n",
      " 13.9 44.1 36.8 21.  25.1 21.5  9.2 35.6  8.9 42.  30.5 23.7 15.3 22.4\n",
      " 14.  31.4 41.1 36.9  7.8 11.2 28.9 32.1 11.5 49.6 37.9 17.6 28.3 25.5\n",
      " 44.  36.7 10.  18.9 30.1 49.9 42.9 27.5 41.  19.  44.8 42.1 14.2 10.5\n",
      "  9.6 16.5 29.6 15.6 40.5 32.9 15.2 10.7 39.9 10.3 43.3 44.7 15.  23.4\n",
      " 32.8 40.1 37.8 35.5 50.1 27.  11.9  7.1 22.6  4.9 11.4 30.4  6.1 10.6\n",
      " 11.1 32.3 12.7 42.5 30.9 30.3 33.  47.8 21.1 41.9 26.7 36.3 12.1 13.6\n",
      " 56.4 12.  52.  54.4 44.4 19.8 60.9 47.6 26.3 50.4 54.5 39.1 24.  38.8\n",
      "  5.3 42.8 16.  46.7 43.  23.8 16.7 19.5 27.9 51.1  5.7 46.2 57.3 51.3\n",
      " 62.5 29.3 34.2 47.1 57.1 28.4 25.8 17.4 16.8  7.5 64.1 33.9 65.   9.5\n",
      " 49.2 52.1 40.  26.4 27.1 38.2 57.  57.7 54.3 34.6 36.4 18.7 38.3 11.8\n",
      " 57.4 33.5 16.2 34.9 52.5 56.9 59.7 39.2 34.  32.6 64.5 33.7 56.  41.7\n",
      " 66.8 41.3 36.1 61.  15.5  3.1 57.5 11.7 60.4 58.  62.4 39.8 59.8 48.5\n",
      " 60.2  7.6 40.6 47.5 33.3 39.7 41.6 67.2 60.5 29.  55.6 46.3  7.9 63.4\n",
      " 46.5 54.8 47.  15.9 41.4 49.   9.8 62.6 40.3 55.2 61.1  9.9 51.5 50.8\n",
      " 47.3 28.6 45.3 45.4 38.9 48.4 48.7  8.4 58.8 39.5 48.8 10.9 15.7  3.2\n",
      " 10.8 38.1  9.  45.9  0.3 55.9 49.7  8.3  9.4 59.9 20.1 45.1 37.5  8.\n",
      "  4.8 39.3  8.8 50.2 67.3  4.1 43.8 37.7 44.5 45.  43.5 46.4  9.7  9.1\n",
      " 17.2 54.2  0.4 39.6 12.2 49.4  9.3 49.8 53.5 45.5 49.3 53.8  2.6 13.5\n",
      " 49.1 52.2 40.8 62.2 38.4 48.   8.1  3.6 42.6 44.6  2.4 56.8 38.6 47.4\n",
      " 36.2 51.8 50.5 57.6 62.8 56.7 59.6 51.9 50.9 57.8  7.7 55.8 48.9 59.\n",
      " 60.6 55.3 42.2 45.7  1.6  7.3 47.7 46.1  0.9 12.8  6.4 38.7  8.7 62.1\n",
      " 55.1 53.6 53.4 56.5 52.9 52.6  1.7 52.3 50.7 51.7 48.2 44.2 41.2 46.9\n",
      " 46.8 40.4 43.6 43.7 42.4 51.  47.2  5.  13.3 41.5 42.3  6.5  4.7 48.1\n",
      "  8.6 40.2  2.3 10.1  2.7 52.8 56.6 61.9 61.7  7.2  7.4 39.  43.2  6.9\n",
      " 63.9 51.6 56.2 59.4 55.7 65.2 55.5 50.6 60.   3.  53.   5.2 46.  54.1\n",
      " 60.8 52.7 58.6 52.4 53.7 56.3  6.7 61.8 50.3 61.3 56.1  2.2  5.8  6.6\n",
      " 62.7  7.  57.2 58.2 61.4  0.6  5.6  3.3  6.2 58.4 48.6  4.4  4.  51.2\n",
      " 60.1 64.3 66.9  1.2  6.  54.6  3.4  2.8  5.9 50.  60.3 69.5 66.7 61.6\n",
      " 55.  62.9  4.2  5.5 58.3  4.6  6.8  3.8  3.7  4.3  2.  64.7 57.9 63.2\n",
      " 53.9 61.2 67.9 59.2 58.5  1.4 67.  63.1 60.7 62.   2.5 58.1 58.7 65.6\n",
      "  3.9  1.8 69.  68.  63.6 58.9 63.8  2.9  1.3  1.1  3.5  4.5 63.  59.5\n",
      " 63.5 68.2 64.8 61.5 64.6 66.4 66.5  0.7 67.8  1.5  1.   1.9 68.1 66.6\n",
      " 62.3  0.8 66.  65.1 64.2 67.7 70.2 65.4 64.9 73.5 65.3 68.6 64.  67.6\n",
      " 65.7 66.2 69.8 68.4 65.9 73.4 65.5 64.4 70.7 73.3 72.8 63.7 69.9 68.9\n",
      " 71.  65.8 74.6 67.5 66.1 73.2 69.3 71.1 67.4 71.3 68.8 69.7 70.1 74.7\n",
      " 69.1 72.7 68.5]\n",
      "[32.4 50.9 24.6 35.  41.7 31.3 36.8 45.2 38.6  nan 29.7 23.4 29.6 40.4\n",
      " 24.1 66.9 34.6 34.3 44.  47.6 48.9 37.9 70.9 43.9 45.8 51.5 26.1 45.1\n",
      " 36.6 61.2 37.8 27.1 32.7 31.6 65.  41.2 42.1 38.  28.1 40.8 46.2 15.3\n",
      " 22.7 42.6 47.  61.  47.8 32.9 29.4 43.6 28.8 64.4 59.7 43.7 67.1 41.8\n",
      " 29.5 44.4 22.8 62.  45.  50.7 36.3 53.5 37.2 28.3 28.6 30.7 48.7 22.9\n",
      " 60.4 41.9 37.6 28.2 39.9 31.  37.7 50.2 47.2 42.8 32.3 24.5 64.6 39.8\n",
      " 63.6 36.  64.7 32.  42.9 31.5 57.7 22.  50.  30.5 38.4 20.9 47.4 31.4\n",
      " 41.3 62.2 36.1 41.4 33.5 28.4 48.1 49.7 48.3 30.2 61.7 63.5 34.9 54.7\n",
      " 40.1 30.  27.3 60.7 65.1 44.5 49.  29.  40.5 63.  58.4 25.5 32.6 36.9\n",
      " 33.4 24.  37.3 29.2 32.1 52.6 23.  20.3 42.3 33.2 39.6 38.3 40.3 37.5\n",
      " 15.9 46.9 25.9 19.1 31.7 36.7 42.2 41.5 25.  29.9 39.3 40.  25.4 19.4\n",
      " 35.5 62.4 19.7 36.2 25.2 35.6 43.3 38.8 24.7 33.8 46.  35.8 26.3 49.4\n",
      " 19.3 47.1 38.5 14.3 15.  43.4 25.1 31.9 41.  55.8 20.  57.2 33.3 34.7\n",
      " 27.2 35.3 39.5 41.6 21.8 51.7 30.1 21.5 13.9 28.5 52.1 40.9 27.7 35.2\n",
      " 26.6 55.7 46.7 23.7 34.1 10.7 40.7 32.5 19.  53.3 45.9 50.4 32.8 42.4\n",
      " 12.4 20.2 47.9 26.4 16.3 16.1 50.6 33.6 43.1 48.8 29.3 19.6 30.3 59.1\n",
      " 20.4 57.5 26.2 11.6 15.6 25.7 34.5 38.1 57.3 23.3 33.1 44.6 35.4 38.2\n",
      " 50.1 31.1 60.8 31.2 55.2 27.5 38.9 56.7 28.7 59.6 56.3 43.8 60.2 20.7\n",
      " 28.  44.8 19.9 24.9 35.9 52.8 26.8 40.6 30.8 48.6 48.  52.3 33.  26.\n",
      " 32.2 47.5 50.3 70.1 33.9 51.6 60.6 25.3 44.1 34.4 39.  45.6 45.7 21.9\n",
      " 23.6 33.7 13.8 26.9 43.2 44.7 39.1 39.7 17.1 24.2 35.1 56.  12.3 15.4\n",
      " 37.  22.4 45.3 17.9 30.4 39.2 18.8 22.5 26.7 27.6 59.8 36.5 45.5 34.8\n",
      " 45.4 58.2 46.3 25.8 56.5 48.5 27.4 24.3 65.9 22.6 62.9 16.9 27.  29.1\n",
      " 17.  34.  57.  60.3 68.4 77.4 64.  52.7 38.7 67.7 40.2 53.8 52.2 24.4\n",
      " 42.  55.1 22.1 27.8 55.9 48.2 44.3 53.4 69.8 20.1 22.3 21.6 43.5 23.5\n",
      " 59.9 37.4 39.4 52.  54.  65.3 60.  30.9 64.9 58.8 66.1 60.5 18.3 61.4\n",
      " 16.6 14.7 53.2 51.4 55.  59.2 23.2 21.3 21.  64.8 66.5 36.4 68.5 30.6\n",
      " 11.8 56.9 57.1 29.8 61.1 21.1 61.6 65.2 70.6 10.4 21.2 17.4 20.5 15.5\n",
      " 63.3 51.  72.3 20.8 13.4 35.7 49.5 57.4 49.1 61.8 74.9 23.1 42.7 50.5\n",
      " 67.9 58.9 65.6 17.3 17.5 18.  20.6 28.9 46.4 65.5 49.3 63.2 63.7 17.6\n",
      " 56.4 13.7 44.9 64.2 31.8 11.1 44.2 46.8 18.4 77.  26.5 63.1 43.  64.5\n",
      " 21.7  9.9 57.8 79.8 47.7 41.1 64.1 61.9 76.1 72.  54.8 67.2 58.1 22.2\n",
      " 53.7 58.6 54.3 57.9 54.5 52.5 46.1 37.1 56.2 52.9 27.9 54.1 21.4 18.5\n",
      " 46.5 67.6 25.6 23.8 12.2 54.9 55.3 11.9 13.6 59.3 62.1 62.8 55.6  3.\n",
      " 70.  86.6 62.3 52.4 58.7 78.7 46.6 10.3 68.7 14.9 79.9 13.  73.1 16.7\n",
      " 59.  49.8 56.8 55.5 48.4 58.5 49.2 23.9 51.9 49.9 42.5 62.6 70.2 65.4\n",
      " 58.  55.4 58.3 18.2 19.8 56.6 57.6 18.1 51.8 11.7 59.5 16.2 53.1 34.2\n",
      " 54.6 14.8 69.  67.5 53.  64.3 63.9 69.2 71.5 70.4 56.1 60.9 18.9 71.4\n",
      " 19.5 66.3 14.1 15.8 16.8 18.7 49.6  9.4 51.3 68.2 61.3 65.7 68.9 24.8\n",
      " 84.6 75.5 12.5 54.4 69.6 17.7 50.8 47.3 18.6 53.6 60.1 66.2 63.4 17.8\n",
      " 15.2 66.6 16.5 19.2 14.4 13.3 15.1  8.2 66.8 51.2 68.  59.4 68.6 17.2\n",
      " 69.4 53.9 62.7 14.6 66.7 16.4 54.2 13.2 12.8 15.7 12.7 11.  10.6 61.5\n",
      " 87.7 67.  16.  68.1 74.8 67.4 71.  74.  78.3 65.8  6.1 75.1 51.1 62.5\n",
      " 71.7 75.7 70.3 69.9 69.3 73.5 78.5 12.9  8.6 67.8 10.9 10.1 72.9 73.7\n",
      " 74.7 72.4 73.8 75.6 73.3 84.  14.2  9.5 10.2 11.3 14.  12.1 63.8 66.4\n",
      "  5.7 66.  13.5  7.5  8.3 11.5  8.5 12.  11.2 14.5  9.8 11.4 12.6  6.9\n",
      "  7.9 75.  13.1  9.6  8.9  8.8 10.8 71.1 68.3 83.2 74.6 68.8 82.4 72.8\n",
      " 81.6 78.1 69.1 83.  72.2 72.7 80.7 71.9 77.5  7.7 73.6 77.8 72.1 78.9\n",
      " 83.9 74.2 82.9 73.9  9.   9.1  6.3 74.5 10.5  7.8 76.3 71.2 70.8 76.\n",
      " 73.2 76.9 67.3 84.8 71.3 81.1 69.5 80.6 83.4 76.8 69.7 73.4 79.6 81.2\n",
      " 71.6 76.2 86.8  9.7  7.3  5.9  7.6  3.1  6.2  4.6  4.4  5.1  9.2 75.4\n",
      " 72.6 70.7  8.1  8.   9.3 10.  75.3  8.7 70.5 75.8 75.2 80.9 84.2  5.4\n",
      "  7.4 74.4 79.1 84.3  6.6  3.4  6.4  3.7  5.8  5.3  6.7  7.   4.7 71.8\n",
      " 76.6 78.6 72.5 74.1 75.9 79.4 80.  76.4 77.1 79.2  5.5  6.8  5.   7.2\n",
      " 74.3 80.1 85.   8.4 77.9 85.2 73.  77.6 83.5 84.7 82.  76.7 88.9  7.1\n",
      " 85.7 80.5 78.  80.2 83.8 81.5 80.8 77.3 77.2 79.3 76.5 83.1 82.2  6.5\n",
      " 92.4 82.8 84.1 78.4]\n",
      "[ 128.   63. 1702. ... 4124. 4472. 3763.]\n",
      "[nan 'Total']\n",
      "[nan '35 - 44' '25 - 34' '18 - 24' '55 - 64' '65 or older' '45 - 54']\n",
      "[nan 'Less than high school' 'Some college or technical school'\n",
      " 'High school graduate' 'College graduate']\n",
      "[nan 'Female' 'Male']\n",
      "[nan '$15,000 - $24,999' '$50,000 - $74,999' '$75,000 or greater'\n",
      " 'Less than $15,000' '$25,000 - $34,999' 'Data not reported'\n",
      " '$35,000 - $49,999']\n",
      "['2 or more races' 'Other' nan 'Non-Hispanic White' 'Asian'\n",
      " 'Hawaiian/Pacific Islander' 'American Indian/Alaska Native' 'Hispanic'\n",
      " 'Non-Hispanic Black']\n",
      "['(64.845079957001, -147.722059036)' '(32.840571122, -86.631860762)'\n",
      " '(34.748650124, -92.274490743)' '(34.86597028, -111.763811277)'\n",
      " '(37.638640123, -120.999999538)' '(38.843840757, -106.133610921)'\n",
      " '(41.56266102, -72.649840952)' '(38.890371385, -77.031961127)'\n",
      " '(39.008830667, -75.577741168)' '(28.932040377, -81.928960539)'\n",
      " '(32.839681093, -83.627580346)' '(21.304850435, -157.857749403)'\n",
      " '(42.469400913, -93.816490556)' '(43.682630005, -114.363730042)'\n",
      " '(40.485010283, -88.997710178)' '(39.766910452, -86.149960194)'\n",
      " '(38.3477403, -98.200781227)' '(37.645970271, -84.774971048)'\n",
      " '(31.312660644, -92.445680071)' '(42.27687047, -72.082690675)'\n",
      " '(39.290580964, -76.609260111)' '(45.254228894001, -68.985031336)'\n",
      " '(44.661319543001, -84.71439027)' '(46.355648736, -94.794200503)'\n",
      " '(38.635790776, -92.566300053)' '(32.745510099, -89.538030825)'\n",
      " '(47.066528972, -109.424420645)' '(35.466220975, -79.159250463)'\n",
      " '(47.475319779, -100.118421049)' '(41.641040988001, -99.365720623)'\n",
      " '(43.655950113, -71.50036092)' '(40.130570048, -74.273691288)'\n",
      " '(34.520880952, -106.240580985)' '(39.49324039, -117.071840564)'\n",
      " '(42.827001032, -75.543970427)' '(40.060210141, -82.404260056)'\n",
      " '(35.472031356, -97.521070214)' '(44.567449424, -120.155031326)'\n",
      " '(40.793730152, -77.860700294)' '(41.708280193, -71.522470314)'\n",
      " '(33.998821303, -81.045371207)' '(44.353130053, -100.373530637)'\n",
      " '(35.68094058, -85.774490914)' '(31.827240407, -99.426770206)' nan\n",
      " '(39.360700171, -111.587130635)' '(37.542680674, -78.457890463)'\n",
      " '(43.625381239, -72.517640791)' '(47.522278629, -120.47001079)'\n",
      " '(44.393191174, -89.816370742)' '(38.665510202, -80.712640135)'\n",
      " '(43.235541343, -108.109830353)' '(18.220833, -66.590149)'\n",
      " '(13.444304, 144.793731)' '(18.335765, -64.896335)'\n",
      " '(64.84507995700051, -147.72205903599973)'\n",
      " '(32.84057112200048, -86.63186076199969)'\n",
      " '(34.74865012400045, -92.27449074299966)'\n",
      " '(34.865970280000454, -111.76381127699972)'\n",
      " '(37.63864012300047, -120.99999953799971)'\n",
      " '(38.843840757000464, -106.13361092099967)'\n",
      " '(41.56266102000046, -72.64984095199964)'\n",
      " '(38.89037138500049, -77.03196112699965)'\n",
      " '(39.008830667000495, -75.57774116799965)'\n",
      " '(28.932040377000476, -81.92896053899966)'\n",
      " '(32.83968109300048, -83.62758034599966)'\n",
      " '(21.304850435000446, -157.85774940299973)'\n",
      " '(42.46940091300047, -93.81649055599968)'\n",
      " '(43.682630005000476, -114.3637300419997)'\n",
      " '(40.48501028300046, -88.99771017799969)'\n",
      " '(39.766910452000445, -86.14996019399968)'\n",
      " '(38.34774030000045, -98.20078122699965)'\n",
      " '(37.645970271000465, -84.77497104799966)'\n",
      " '(31.31266064400046, -92.44568007099969)'\n",
      " '(42.27687047000046, -72.08269067499964)'\n",
      " '(39.29058096400047, -76.60926011099963)'\n",
      " '(45.254228894000505, -68.98503133599962)'\n",
      " '(44.6613195430005, -84.71439026999968)'\n",
      " '(46.35564873600049, -94.79420050299967)'\n",
      " '(38.635790776000476, -92.56630005299968)'\n",
      " '(32.745510099000455, -89.53803082499968)'\n",
      " '(47.06652897200047, -109.42442064499971)'\n",
      " '(35.466220975000454, -79.15925046299964)'\n",
      " '(47.47531977900047, -100.11842104899966)'\n",
      " '(41.6410409880005, -99.36572062299967)'\n",
      " '(43.65595011300047, -71.50036091999965)'\n",
      " '(40.13057004800049, -74.27369128799967)'\n",
      " '(34.52088095200048, -106.24058098499967)'\n",
      " '(39.493240390000494, -117.07184056399967)'\n",
      " '(42.82700103200045, -75.54397042699964)'\n",
      " '(40.06021014100048, -82.40426005599966)'\n",
      " '(35.47203135600046, -97.52107021399968)'\n",
      " '(44.56744942400047, -120.15503132599969)'\n",
      " '(40.79373015200048, -77.86070029399963)'\n",
      " '(41.70828019300046, -71.52247031399963)'\n",
      " '(33.998821303000454, -81.04537120699968)'\n",
      " '(44.353130053000484, -100.3735306369997)'\n",
      " '(35.68094058000048, -85.77449091399967)'\n",
      " '(31.827240407000488, -99.42677020599967)'\n",
      " '(39.360700171000474, -111.58713063499971)'\n",
      " '(37.54268067400045, -78.45789046299967)'\n",
      " '(43.62538123900049, -72.51764079099962)'\n",
      " '(47.52227862900048, -120.47001078999972)'\n",
      " '(44.39319117400049, -89.81637074199966)'\n",
      " '(38.66551020200046, -80.71264013499967)'\n",
      " '(43.23554134300048, -108.10983035299967)']\n",
      "['OWS' 'PA' 'FV']\n",
      "['OWS1' 'PA1' 'FV1']\n",
      "['Q036' 'Q044' 'Q037' 'Q046' 'Q045' 'Q047' 'Q043' 'Q018' 'Q019']\n",
      "['VALUE']\n",
      "[ 2  1  5  4  6  8  9 11 10 12 13 15 19 16 17 18 20 21 22 25 24 23 26 27\n",
      " 29 28 30 37 38 31 33 34 35 32 36 39 40 41 42 44 45 46 47 48 59 49 51 50\n",
      " 53 55 54 56 72 66 78]\n",
      "['Race/Ethnicity' 'Sex' 'Age (years)' 'Income' 'Education' 'Total']\n",
      "['2 or more races' 'Other' 'Female' '35 - 44' '$15,000 - $24,999' 'Male'\n",
      " 'Less than high school' '25 - 34' 'Non-Hispanic White' 'Asian'\n",
      " 'Some college or technical school' '18 - 24' '$50,000 - $74,999'\n",
      " 'Hawaiian/Pacific Islander' 'High school graduate' '$75,000 or greater'\n",
      " 'American Indian/Alaska Native' 'College graduate' 'Hispanic'\n",
      " 'Non-Hispanic Black' 'Less than $15,000' '55 - 64' '65 or older' 'Total'\n",
      " '$25,000 - $34,999' '45 - 54' 'Data not reported' '$35,000 - $49,999']\n",
      "['RACE' 'SEX' 'AGEYR' 'INC' 'EDU' 'OVR']\n",
      "['RACE2PLUS' 'RACEOTH' 'FEMALE' 'AGEYR3544' 'INC1525' 'MALE' 'EDUHS'\n",
      " 'AGEYR2534' 'RACEWHT' 'RACEASN' 'EDUCOTEC' 'AGEYR1824' 'INC5075'\n",
      " 'RACEHPI' 'EDUHSGRAD' 'INC75PLUS' 'RACENAA' 'EDUCOGRAD' 'RACEHIS'\n",
      " 'RACEBLK' 'INCLESS15' 'AGEYR5564' 'AGEYR65PLUS' 'OVERALL' 'INC2535'\n",
      " 'AGEYR4554' 'INCNR' 'INC3550']\n"
     ]
    }
   ],
   "source": [
    "for i in df.columns:\n",
    "    print(df[i].unique())"
   ]
  },
  {
   "cell_type": "code",
   "execution_count": 14,
   "metadata": {},
   "outputs": [
    {
     "name": "stdout",
     "output_type": "stream",
     "text": [
      "['OWS' 'PA' 'FV']\n",
      "['OWS1' 'PA1' 'FV1']\n",
      "['Q036' 'Q044' 'Q037' 'Q046' 'Q045' 'Q047' 'Q043' 'Q018' 'Q019']\n",
      "[ 2  1  5  4  6  8  9 11 10 12 13 15 19 16 17 18 20 21 22 25 24 23 26 27\n",
      " 29 28 30 37 38 31 33 34 35 32 36 39 40 41 42 44 45 46 47 48 59 49 51 50\n",
      " 53 55 54 56 72 66 78]\n",
      "['Race/Ethnicity' 'Sex' 'Age (years)' 'Income' 'Education' 'Total']\n",
      "['2 or more races' 'Other' 'Female' '35 - 44' '$15,000 - $24,999' 'Male'\n",
      " 'Less than high school' '25 - 34' 'Non-Hispanic White' 'Asian'\n",
      " 'Some college or technical school' '18 - 24' '$50,000 - $74,999'\n",
      " 'Hawaiian/Pacific Islander' 'High school graduate' '$75,000 or greater'\n",
      " 'American Indian/Alaska Native' 'College graduate' 'Hispanic'\n",
      " 'Non-Hispanic Black' 'Less than $15,000' '55 - 64' '65 or older' 'Total'\n",
      " '$25,000 - $34,999' '45 - 54' 'Data not reported' '$35,000 - $49,999']\n",
      "['RACE' 'SEX' 'AGEYR' 'INC' 'EDU' 'OVR']\n",
      "['RACE2PLUS' 'RACEOTH' 'FEMALE' 'AGEYR3544' 'INC1525' 'MALE' 'EDUHS'\n",
      " 'AGEYR2534' 'RACEWHT' 'RACEASN' 'EDUCOTEC' 'AGEYR1824' 'INC5075'\n",
      " 'RACEHPI' 'EDUHSGRAD' 'INC75PLUS' 'RACENAA' 'EDUCOGRAD' 'RACEHIS'\n",
      " 'RACEBLK' 'INCLESS15' 'AGEYR5564' 'AGEYR65PLUS' 'OVERALL' 'INC2535'\n",
      " 'AGEYR4554' 'INCNR' 'INC3550']\n"
     ]
    }
   ],
   "source": [
    "print(df['ClassID'].unique())\n",
    "print(df['TopicID'].unique())\n",
    "print(df['QuestionID'].unique())\n",
    "print(df['LocationID'].unique())\n",
    "print(df['StratificationCategory1'].unique())\n",
    "print(df['Stratification1'].unique())\n",
    "print(df['StratificationCategoryId1'].unique())\n",
    "print(df['StratificationID1'].unique())"
   ]
  },
  {
   "cell_type": "code",
   "execution_count": 18,
   "metadata": {},
   "outputs": [
    {
     "data": {
      "image/png": "[encoded data removed]",
      "text/plain": [
       "<Figure size 1400x600 with 1 Axes>"
      ]
     },
     "metadata": {},
     "output_type": "display_data"
    }
   ],
   "source": [
    "import matplotlib.pyplot as plt\n",
    "\n",
    "# Group data by LocationDesc and YearStart, and count entries\n",
    "state_year_counts = df.groupby(['LocationDesc', 'YearStart']).size().unstack(fill_value=0)\n",
    "\n",
    "# Plot bar chart for the top 10 most frequently recorded states\n",
    "top_states = state_year_counts.sum(axis=1).sort_values(ascending=False).head(10).index\n",
    "filtered_counts = state_year_counts.loc[top_states]\n",
    "\n",
    "# Plot\n",
    "ax = filtered_counts.T.plot(kind='bar', figsize=(14, 6), width=0.85)\n",
    "plt.title('Data Records by Year and State (Top 10 States)')\n",
    "plt.xlabel('Year')\n",
    "plt.ylabel('Number of Records')\n",
    "plt.xticks(rotation=45)\n",
    "plt.legend(title=\"State\", bbox_to_anchor=(1.05, 1), loc='upper left')\n",
    "plt.tight_layout()\n",
    "\n",
    "plt.show()\n"
   ]
  },
  {
   "cell_type": "code",
   "execution_count": 22,
   "metadata": {},
   "outputs": [
    {
     "data": {
      "application/vnd.plotly.v1+json": {
       "config": {
        "plotlyServerURL": "https://plot.ly"
       },
       "data": [
        {
         "hovertemplate": "LocationDesc=Alabama<br>YearStart=%{x}<br>Obesity Rate (%)=%{y}<extra></extra>",
         "legendgroup": "Alabama",
         "line": {
          "color": "#636efa",
          "dash": "solid"
         },
         "marker": {
          "symbol": "circle"
         },
         "mode": "lines+markers",
         "name": "Alabama",
         "orientation": "v",
         "showlegend": true,
         "type": "scatter",
         "x": {
          "bdata": "2wfcB90H3gffB+AH4QfiB+MH5AflB+YH5wc=",
          "dtype": "i2"
         },
         "xaxis": "x",
         "y": {
          "bdata": "AAAAAAAAQEAAAAAAAIBAQDMzMzMzM0BAAAAAAADAQEDNzMzMzMxBQJqZmZmZ2UFAZmZmZmYmQkCamZmZmRlCQM3MzMzMDEJAAAAAAACAQ0AzMzMzM/NDQGZmZmZmJkNAmpmZmZmZQ0A=",
          "dtype": "f8"
         },
         "yaxis": "y"
        },
        {
         "hovertemplate": "LocationDesc=Arkansas<br>YearStart=%{x}<br>Obesity Rate (%)=%{y}<extra></extra>",
         "legendgroup": "Arkansas",
         "line": {
          "color": "#EF553B",
          "dash": "solid"
         },
         "marker": {
          "symbol": "circle"
         },
         "mode": "lines+markers",
         "name": "Arkansas",
         "orientation": "v",
         "showlegend": true,
         "type": "scatter",
         "x": {
          "bdata": "2wfcB90H3gffB+AH4QfiB+MH5AflB+YH5wc=",
          "dtype": "i2"
         },
         "xaxis": "x",
         "y": {
          "bdata": "ZmZmZmbmPkAAAAAAAEBBQM3MzMzMTEFAMzMzMzPzQUAAAAAAAEBBQJqZmZmZ2UFAAAAAAACAQUDNzMzMzIxCQDMzMzMzs0JAMzMzMzMzQkCamZmZmVlDQDMzMzMzs0JAAAAAAAAAREA=",
          "dtype": "f8"
         },
         "yaxis": "y"
        },
        {
         "hovertemplate": "LocationDesc=Louisiana<br>YearStart=%{x}<br>Obesity Rate (%)=%{y}<extra></extra>",
         "legendgroup": "Louisiana",
         "line": {
          "color": "#00cc96",
          "dash": "solid"
         },
         "marker": {
          "symbol": "circle"
         },
         "mode": "lines+markers",
         "name": "Louisiana",
         "orientation": "v",
         "showlegend": true,
         "type": "scatter",
         "x": {
          "bdata": "2wfcB90H3gffB+AH4QfiB+MH5AflB+YH5wc=",
          "dtype": "i2"
         },
         "xaxis": "x",
         "y": {
          "bdata": "MzMzMzOzQECamZmZmVlBQM3MzMzMjEBAMzMzMzNzQUCamZmZmRlCQAAAAAAAwEFAmpmZmZkZQkBmZmZmZmZCQDMzMzMz80FAzczMzMwMQ0DNzMzMzExDQM3MzMzMDERAMzMzMzPzQ0A=",
          "dtype": "f8"
         },
         "yaxis": "y"
        },
        {
         "hovertemplate": "LocationDesc=Mississippi<br>YearStart=%{x}<br>Obesity Rate (%)=%{y}<extra></extra>",
         "legendgroup": "Mississippi",
         "line": {
          "color": "#ab63fa",
          "dash": "solid"
         },
         "marker": {
          "symbol": "circle"
         },
         "mode": "lines+markers",
         "name": "Mississippi",
         "orientation": "v",
         "showlegend": true,
         "type": "scatter",
         "x": {
          "bdata": "2wfcB90H3gffB+AH4QfiB+MH5AflB+YH5wc=",
          "dtype": "i2"
         },
         "xaxis": "x",
         "y": {
          "bdata": "MzMzMzNzQUDNzMzMzExBQM3MzMzMjEFAAAAAAADAQUDNzMzMzMxBQGZmZmZmpkJAZmZmZmamQkAAAAAAAMBDQGZmZmZmZkRAmpmZmZnZQ0DNzMzMzIxDQAAAAAAAwENAzczMzMwMREA=",
          "dtype": "f8"
         },
         "yaxis": "y"
        },
        {
         "hovertemplate": "LocationDesc=West Virginia<br>YearStart=%{x}<br>Obesity Rate (%)=%{y}<extra></extra>",
         "legendgroup": "West Virginia",
         "line": {
          "color": "#FFA15A",
          "dash": "solid"
         },
         "marker": {
          "symbol": "circle"
         },
         "mode": "lines+markers",
         "name": "West Virginia",
         "orientation": "v",
         "showlegend": true,
         "type": "scatter",
         "x": {
          "bdata": "2wfcB90H3gffB+AH4QfiB+MH5AflB+YH5wc=",
          "dtype": "i2"
         },
         "xaxis": "x",
         "y": {
          "bdata": "MzMzMzMzQEBmZmZmZuZAQM3MzMzMjEFAmpmZmZnZQUDNzMzMzMxBQJqZmZmZ2UJAzczMzMwMQ0AAAAAAAMBDQJqZmZmZ2UNAzczMzMyMQ0DNzMzMzExEQAAAAAAAgERAmpmZmZmZREA=",
          "dtype": "f8"
         },
         "yaxis": "y"
        }
       ],
       "layout": {
        "legend": {
         "title": {
          "text": "LocationDesc"
         },
         "tracegroupgap": 0
        },
        "template": {
         "data": {
          "bar": [
           {
            "error_x": {
             "color": "#2a3f5f"
            },
            "error_y": {
             "color": "#2a3f5f"
            },
            "marker": {
             "line": {
              "color": "#E5ECF6",
              "width": 0.5
             },
             "pattern": {
              "fillmode": "overlay",
              "size": 10,
              "solidity": 0.2
             }
            },
            "type": "bar"
           }
          ],
          "barpolar": [
           {
            "marker": {
             "line": {
              "color": "#E5ECF6",
              "width": 0.5
             },
             "pattern": {
              "fillmode": "overlay",
              "size": 10,
              "solidity": 0.2
             }
            },
            "type": "barpolar"
           }
          ],
          "carpet": [
           {
            "aaxis": {
             "endlinecolor": "#2a3f5f",
             "gridcolor": "white",
             "linecolor": "white",
             "minorgridcolor": "white",
             "startlinecolor": "#2a3f5f"
            },
            "baxis": {
             "endlinecolor": "#2a3f5f",
             "gridcolor": "white",
             "linecolor": "white",
             "minorgridcolor": "white",
             "startlinecolor": "#2a3f5f"
            },
            "type": "carpet"
           }
          ],
          "choropleth": [
           {
            "colorbar": {
             "outlinewidth": 0,
             "ticks": ""
            },
            "type": "choropleth"
           }
          ],
          "contour": [
           {
            "colorbar": {
             "outlinewidth": 0,
             "ticks": ""
            },
            "colorscale": [
             [
              0,
              "#0d0887"
             ],
             [
              0.1111111111111111,
              "#46039f"
             ],
             [
              0.2222222222222222,
              "#7201a8"
             ],
             [
              0.3333333333333333,
              "#9c179e"
             ],
             [
              0.4444444444444444,
              "#bd3786"
             ],
             [
              0.5555555555555556,
              "#d8576b"
             ],
             [
              0.6666666666666666,
              "#ed7953"
             ],
             [
              0.7777777777777778,
              "#fb9f3a"
             ],
             [
              0.8888888888888888,
              "#fdca26"
             ],
             [
              1,
              "#f0f921"
             ]
            ],
            "type": "contour"
           }
          ],
          "contourcarpet": [
           {
            "colorbar": {
             "outlinewidth": 0,
             "ticks": ""
            },
            "type": "contourcarpet"
           }
          ],
          "heatmap": [
           {
            "colorbar": {
             "outlinewidth": 0,
             "ticks": ""
            },
            "colorscale": [
             [
              0,
              "#0d0887"
             ],
             [
              0.1111111111111111,
              "#46039f"
             ],
             [
              0.2222222222222222,
              "#7201a8"
             ],
             [
              0.3333333333333333,
              "#9c179e"
             ],
             [
              0.4444444444444444,
              "#bd3786"
             ],
             [
              0.5555555555555556,
              "#d8576b"
             ],
             [
              0.6666666666666666,
              "#ed7953"
             ],
             [
              0.7777777777777778,
              "#fb9f3a"
             ],
             [
              0.8888888888888888,
              "#fdca26"
             ],
             [
              1,
              "#f0f921"
             ]
            ],
            "type": "heatmap"
           }
          ],
          "histogram": [
           {
            "marker": {
             "pattern": {
              "fillmode": "overlay",
              "size": 10,
              "solidity": 0.2
             }
            },
            "type": "histogram"
           }
          ],
          "histogram2d": [
           {
            "colorbar": {
             "outlinewidth": 0,
             "ticks": ""
            },
            "colorscale": [
             [
              0,
              "#0d0887"
             ],
             [
              0.1111111111111111,
              "#46039f"
             ],
             [
              0.2222222222222222,
              "#7201a8"
             ],
             [
              0.3333333333333333,
              "#9c179e"
             ],
             [
              0.4444444444444444,
              "#bd3786"
             ],
             [
              0.5555555555555556,
              "#d8576b"
             ],
             [
              0.6666666666666666,
              "#ed7953"
             ],
             [
              0.7777777777777778,
              "#fb9f3a"
             ],
             [
              0.8888888888888888,
              "#fdca26"
             ],
             [
              1,
              "#f0f921"
             ]
            ],
            "type": "histogram2d"
           }
          ],
          "histogram2dcontour": [
           {
            "colorbar": {
             "outlinewidth": 0,
             "ticks": ""
            },
            "colorscale": [
             [
              0,
              "#0d0887"
             ],
             [
              0.1111111111111111,
              "#46039f"
             ],
             [
              0.2222222222222222,
              "#7201a8"
             ],
             [
              0.3333333333333333,
              "#9c179e"
             ],
             [
              0.4444444444444444,
              "#bd3786"
             ],
             [
              0.5555555555555556,
              "#d8576b"
             ],
             [
              0.6666666666666666,
              "#ed7953"
             ],
             [
              0.7777777777777778,
              "#fb9f3a"
             ],
             [
              0.8888888888888888,
              "#fdca26"
             ],
             [
              1,
              "#f0f921"
             ]
            ],
            "type": "histogram2dcontour"
           }
          ],
          "mesh3d": [
           {
            "colorbar": {
             "outlinewidth": 0,
             "ticks": ""
            },
            "type": "mesh3d"
           }
          ],
          "parcoords": [
           {
            "line": {
             "colorbar": {
              "outlinewidth": 0,
              "ticks": ""
             }
            },
            "type": "parcoords"
           }
          ],
          "pie": [
           {
            "automargin": true,
            "type": "pie"
           }
          ],
          "scatter": [
           {
            "fillpattern": {
             "fillmode": "overlay",
             "size": 10,
             "solidity": 0.2
            },
            "type": "scatter"
           }
          ],
          "scatter3d": [
           {
            "line": {
             "colorbar": {
              "outlinewidth": 0,
              "ticks": ""
             }
            },
            "marker": {
             "colorbar": {
              "outlinewidth": 0,
              "ticks": ""
             }
            },
            "type": "scatter3d"
           }
          ],
          "scattercarpet": [
           {
            "marker": {
             "colorbar": {
              "outlinewidth": 0,
              "ticks": ""
             }
            },
            "type": "scattercarpet"
           }
          ],
          "scattergeo": [
           {
            "marker": {
             "colorbar": {
              "outlinewidth": 0,
              "ticks": ""
             }
            },
            "type": "scattergeo"
           }
          ],
          "scattergl": [
           {
            "marker": {
             "colorbar": {
              "outlinewidth": 0,
              "ticks": ""
             }
            },
            "type": "scattergl"
           }
          ],
          "scattermap": [
           {
            "marker": {
             "colorbar": {
              "outlinewidth": 0,
              "ticks": ""
             }
            },
            "type": "scattermap"
           }
          ],
          "scattermapbox": [
           {
            "marker": {
             "colorbar": {
              "outlinewidth": 0,
              "ticks": ""
             }
            },
            "type": "scattermapbox"
           }
          ],
          "scatterpolar": [
           {
            "marker": {
             "colorbar": {
              "outlinewidth": 0,
              "ticks": ""
             }
            },
            "type": "scatterpolar"
           }
          ],
          "scatterpolargl": [
           {
            "marker": {
             "colorbar": {
              "outlinewidth": 0,
              "ticks": ""
             }
            },
            "type": "scatterpolargl"
           }
          ],
          "scatterternary": [
           {
            "marker": {
             "colorbar": {
              "outlinewidth": 0,
              "ticks": ""
             }
            },
            "type": "scatterternary"
           }
          ],
          "surface": [
           {
            "colorbar": {
             "outlinewidth": 0,
             "ticks": ""
            },
            "colorscale": [
             [
              0,
              "#0d0887"
             ],
             [
              0.1111111111111111,
              "#46039f"
             ],
             [
              0.2222222222222222,
              "#7201a8"
             ],
             [
              0.3333333333333333,
              "#9c179e"
             ],
             [
              0.4444444444444444,
              "#bd3786"
             ],
             [
              0.5555555555555556,
              "#d8576b"
             ],
             [
              0.6666666666666666,
              "#ed7953"
             ],
             [
              0.7777777777777778,
              "#fb9f3a"
             ],
             [
              0.8888888888888888,
              "#fdca26"
             ],
             [
              1,
              "#f0f921"
             ]
            ],
            "type": "surface"
           }
          ],
          "table": [
           {
            "cells": {
             "fill": {
              "color": "#EBF0F8"
             },
             "line": {
              "color": "white"
             }
            },
            "header": {
             "fill": {
              "color": "#C8D4E3"
             },
             "line": {
              "color": "white"
             }
            },
            "type": "table"
           }
          ]
         },
         "layout": {
          "annotationdefaults": {
           "arrowcolor": "#2a3f5f",
           "arrowhead": 0,
           "arrowwidth": 1
          },
          "autotypenumbers": "strict",
          "coloraxis": {
           "colorbar": {
            "outlinewidth": 0,
            "ticks": ""
           }
          },
          "colorscale": {
           "diverging": [
            [
             0,
             "#8e0152"
            ],
            [
             0.1,
             "#c51b7d"
            ],
            [
             0.2,
             "#de77ae"
            ],
            [
             0.3,
             "#f1b6da"
            ],
            [
             0.4,
             "#fde0ef"
            ],
            [
             0.5,
             "#f7f7f7"
            ],
            [
             0.6,
             "#e6f5d0"
            ],
            [
             0.7,
             "#b8e186"
            ],
            [
             0.8,
             "#7fbc41"
            ],
            [
             0.9,
             "#4d9221"
            ],
            [
             1,
             "#276419"
            ]
           ],
           "sequential": [
            [
             0,
             "#0d0887"
            ],
            [
             0.1111111111111111,
             "#46039f"
            ],
            [
             0.2222222222222222,
             "#7201a8"
            ],
            [
             0.3333333333333333,
             "#9c179e"
            ],
            [
             0.4444444444444444,
             "#bd3786"
            ],
            [
             0.5555555555555556,
             "#d8576b"
            ],
            [
             0.6666666666666666,
             "#ed7953"
            ],
            [
             0.7777777777777778,
             "#fb9f3a"
            ],
            [
             0.8888888888888888,
             "#fdca26"
            ],
            [
             1,
             "#f0f921"
            ]
           ],
           "sequentialminus": [
            [
             0,
             "#0d0887"
            ],
            [
             0.1111111111111111,
             "#46039f"
            ],
            [
             0.2222222222222222,
             "#7201a8"
            ],
            [
             0.3333333333333333,
             "#9c179e"
            ],
            [
             0.4444444444444444,
             "#bd3786"
            ],
            [
             0.5555555555555556,
             "#d8576b"
            ],
            [
             0.6666666666666666,
             "#ed7953"
            ],
            [
             0.7777777777777778,
             "#fb9f3a"
            ],
            [
             0.8888888888888888,
             "#fdca26"
            ],
            [
             1,
             "#f0f921"
            ]
           ]
          },
          "colorway": [
           "#636efa",
           "#EF553B",
           "#00cc96",
           "#ab63fa",
           "#FFA15A",
           "#19d3f3",
           "#FF6692",
           "#B6E880",
           "#FF97FF",
           "#FECB52"
          ],
          "font": {
           "color": "#2a3f5f"
          },
          "geo": {
           "bgcolor": "white",
           "lakecolor": "white",
           "landcolor": "#E5ECF6",
           "showlakes": true,
           "showland": true,
           "subunitcolor": "white"
          },
          "hoverlabel": {
           "align": "left"
          },
          "hovermode": "closest",
          "mapbox": {
           "style": "light"
          },
          "paper_bgcolor": "white",
          "plot_bgcolor": "#E5ECF6",
          "polar": {
           "angularaxis": {
            "gridcolor": "white",
            "linecolor": "white",
            "ticks": ""
           },
           "bgcolor": "#E5ECF6",
           "radialaxis": {
            "gridcolor": "white",
            "linecolor": "white",
            "ticks": ""
           }
          },
          "scene": {
           "xaxis": {
            "backgroundcolor": "#E5ECF6",
            "gridcolor": "white",
            "gridwidth": 2,
            "linecolor": "white",
            "showbackground": true,
            "ticks": "",
            "zerolinecolor": "white"
           },
           "yaxis": {
            "backgroundcolor": "#E5ECF6",
            "gridcolor": "white",
            "gridwidth": 2,
            "linecolor": "white",
            "showbackground": true,
            "ticks": "",
            "zerolinecolor": "white"
           },
           "zaxis": {
            "backgroundcolor": "#E5ECF6",
            "gridcolor": "white",
            "gridwidth": 2,
            "linecolor": "white",
            "showbackground": true,
            "ticks": "",
            "zerolinecolor": "white"
           }
          },
          "shapedefaults": {
           "line": {
            "color": "#2a3f5f"
           }
          },
          "ternary": {
           "aaxis": {
            "gridcolor": "white",
            "linecolor": "white",
            "ticks": ""
           },
           "baxis": {
            "gridcolor": "white",
            "linecolor": "white",
            "ticks": ""
           },
           "bgcolor": "#E5ECF6",
           "caxis": {
            "gridcolor": "white",
            "linecolor": "white",
            "ticks": ""
           }
          },
          "title": {
           "x": 0.05
          },
          "xaxis": {
           "automargin": true,
           "gridcolor": "white",
           "linecolor": "white",
           "ticks": "",
           "title": {
            "standoff": 15
           },
           "zerolinecolor": "white",
           "zerolinewidth": 2
          },
          "yaxis": {
           "automargin": true,
           "gridcolor": "white",
           "linecolor": "white",
           "ticks": "",
           "title": {
            "standoff": 15
           },
           "zerolinecolor": "white",
           "zerolinewidth": 2
          }
         }
        },
        "title": {
         "text": "📈 Obesity Rate Trends (Top 5 States)"
        },
        "xaxis": {
         "anchor": "y",
         "domain": [
          0,
          1
         ],
         "title": {
          "text": "YearStart"
         }
        },
        "yaxis": {
         "anchor": "x",
         "domain": [
          0,
          1
         ],
         "title": {
          "text": "Obesity Rate (%)"
         }
        }
       }
      }
     },
     "metadata": {},
     "output_type": "display_data"
    }
   ],
   "source": [
    "import pandas as pd\n",
    "import plotly.express as px\n",
    "\n",
    "df = pd.read_csv('./Data/raw1.csv')\n",
    "df.columns = df.columns.str.strip().str.replace(' ', '_').str.replace(r'[()/]', '', regex=True)\n",
    "\n",
    "# Filter top 5 states by average obesity rate\n",
    "top_states = (\n",
    "    df[df['QuestionID'] == 'Q036']\n",
    "    .query(\"Stratification1 == 'Total'\")\n",
    "    .groupby('LocationDesc')['Data_Value'].mean()\n",
    "    .sort_values(ascending=False).head(5).index.tolist()\n",
    ")\n",
    "\n",
    "obesity_df = df[\n",
    "    (df['QuestionID'] == 'Q036') &\n",
    "    (df['Stratification1'] == 'Total') &\n",
    "    (df['LocationDesc'].isin(top_states))\n",
    "]\n",
    "\n",
    "fig = px.line(\n",
    "    obesity_df,\n",
    "    x='YearStart',\n",
    "    y='Data_Value',\n",
    "    color='LocationDesc',\n",
    "    title='📈 Obesity Rate Trends (Top 5 States)',\n",
    "    markers=True,\n",
    "    labels={'Data_Value': 'Obesity Rate (%)'}\n",
    ")\n",
    "fig.show()\n"
   ]
  },
  {
   "cell_type": "code",
   "execution_count": 27,
   "metadata": {},
   "outputs": [
    {
     "data": {
      "application/vnd.plotly.v1+json": {
       "config": {
        "plotlyServerURL": "https://plot.ly"
       },
       "data": [
        {
         "coloraxis": "coloraxis",
         "geo": "geo",
         "hovertemplate": "<b>%{hovertext}</b><br><br>YearStart=2011<br>LocationAbbr=%{location}<br>Data_Value=%{z}<extra></extra>",
         "hovertext": [
          "Alaska",
          "Alabama",
          "Arkansas",
          "Arizona",
          "California",
          "Colorado",
          "Connecticut",
          "District of Columbia",
          "Delaware",
          "Florida",
          "Georgia",
          "Hawaii",
          "Iowa",
          "Idaho",
          "Illinois",
          "Indiana",
          "Kansas",
          "Kentucky",
          "Louisiana",
          "Massachusetts",
          "Maryland",
          "Maine",
          "Michigan",
          "Minnesota",
          "Missouri",
          "Mississippi",
          "Montana",
          "North Carolina",
          "North Dakota",
          "Nebraska",
          "New Hampshire",
          "New Jersey",
          "New Mexico",
          "Nevada",
          "New York",
          "Ohio",
          "Oklahoma",
          "Oregon",
          "Pennsylvania",
          "Rhode Island",
          "South Carolina",
          "South Dakota",
          "Tennessee",
          "Texas",
          "National",
          "Utah",
          "Virginia",
          "Vermont",
          "Washington",
          "Wisconsin",
          "West Virginia",
          "Wyoming"
         ],
         "locationmode": "USA-states",
         "locations": [
          "AK",
          "AL",
          "AR",
          "AZ",
          "CA",
          "CO",
          "CT",
          "DC",
          "DE",
          "FL",
          "GA",
          "HI",
          "IA",
          "ID",
          "IL",
          "IN",
          "KS",
          "KY",
          "LA",
          "MA",
          "MD",
          "ME",
          "MI",
          "MN",
          "MO",
          "MS",
          "MT",
          "NC",
          "ND",
          "NE",
          "NH",
          "NJ",
          "NM",
          "NV",
          "NY",
          "OH",
          "OK",
          "OR",
          "PA",
          "RI",
          "SC",
          "SD",
          "TN",
          "TX",
          "US",
          "UT",
          "VA",
          "VT",
          "WA",
          "WI",
          "WV",
          "WY"
         ],
         "name": "",
         "type": "choropleth",
         "z": {
          "bdata": "ZmZmZmZmO0AAAAAAAABAQGZmZmZm5j5AmpmZmZkZOUDNzMzMzMw3QDMzMzMzszRAAAAAAACAOEAzMzMzM7M3QM3MzMzMzDxAmpmZmZmZOkAAAAAAAAA8QM3MzMzMzDVAAAAAAAAAPUAAAAAAAAA7QJqZmZmZGTtAzczMzMzMPkCamZmZmZk9QGZmZmZmZj5AMzMzMzOzQEAzMzMzM7M2QM3MzMzMTDxAzczMzMzMO0DNzMzMzEw/QDMzMzMzszlAzczMzMxMPkAzMzMzM3NBQJqZmZmZmThAmpmZmZkZPUDNzMzMzMw7QGZmZmZmZjxAMzMzMzMzOkAzMzMzM7M3QM3MzMzMTDpAAAAAAACAOEAAAAAAAIA4QJqZmZmZmT1AmpmZmZkZP0AzMzMzM7M6QJqZmZmZmTxAZmZmZmZmOUDNzMzMzMw+QJqZmZmZGTxAMzMzMzMzPUBmZmZmZmY+QGZmZmZmZjtAZmZmZmZmOEAzMzMzMzM9QGZmZmZmZjlAAAAAAACAOkAzMzMzM7M7QDMzMzMzM0BAAAAAAAAAOUA=",
          "dtype": "f8"
         }
        }
       ],
       "frames": [
        {
         "data": [
          {
           "coloraxis": "coloraxis",
           "geo": "geo",
           "hovertemplate": "<b>%{hovertext}</b><br><br>YearStart=2011<br>LocationAbbr=%{location}<br>Data_Value=%{z}<extra></extra>",
           "hovertext": [
            "Alaska",
            "Alabama",
            "Arkansas",
            "Arizona",
            "California",
            "Colorado",
            "Connecticut",
            "District of Columbia",
            "Delaware",
            "Florida",
            "Georgia",
            "Hawaii",
            "Iowa",
            "Idaho",
            "Illinois",
            "Indiana",
            "Kansas",
            "Kentucky",
            "Louisiana",
            "Massachusetts",
            "Maryland",
            "Maine",
            "Michigan",
            "Minnesota",
            "Missouri",
            "Mississippi",
            "Montana",
            "North Carolina",
            "North Dakota",
            "Nebraska",
            "New Hampshire",
            "New Jersey",
            "New Mexico",
            "Nevada",
            "New York",
            "Ohio",
            "Oklahoma",
            "Oregon",
            "Pennsylvania",
            "Rhode Island",
            "South Carolina",
            "South Dakota",
            "Tennessee",
            "Texas",
            "National",
            "Utah",
            "Virginia",
            "Vermont",
            "Washington",
            "Wisconsin",
            "West Virginia",
            "Wyoming"
           ],
           "locationmode": "USA-states",
           "locations": [
            "AK",
            "AL",
            "AR",
            "AZ",
            "CA",
            "CO",
            "CT",
            "DC",
            "DE",
            "FL",
            "GA",
            "HI",
            "IA",
            "ID",
            "IL",
            "IN",
            "KS",
            "KY",
            "LA",
            "MA",
            "MD",
            "ME",
            "MI",
            "MN",
            "MO",
            "MS",
            "MT",
            "NC",
            "ND",
            "NE",
            "NH",
            "NJ",
            "NM",
            "NV",
            "NY",
            "OH",
            "OK",
            "OR",
            "PA",
            "RI",
            "SC",
            "SD",
            "TN",
            "TX",
            "US",
            "UT",
            "VA",
            "VT",
            "WA",
            "WI",
            "WV",
            "WY"
           ],
           "name": "",
           "type": "choropleth",
           "z": {
            "bdata": "ZmZmZmZmO0AAAAAAAABAQGZmZmZm5j5AmpmZmZkZOUDNzMzMzMw3QDMzMzMzszRAAAAAAACAOEAzMzMzM7M3QM3MzMzMzDxAmpmZmZmZOkAAAAAAAAA8QM3MzMzMzDVAAAAAAAAAPUAAAAAAAAA7QJqZmZmZGTtAzczMzMzMPkCamZmZmZk9QGZmZmZmZj5AMzMzMzOzQEAzMzMzM7M2QM3MzMzMTDxAzczMzMzMO0DNzMzMzEw/QDMzMzMzszlAzczMzMxMPkAzMzMzM3NBQJqZmZmZmThAmpmZmZkZPUDNzMzMzMw7QGZmZmZmZjxAMzMzMzMzOkAzMzMzM7M3QM3MzMzMTDpAAAAAAACAOEAAAAAAAIA4QJqZmZmZmT1AmpmZmZkZP0AzMzMzM7M6QJqZmZmZmTxAZmZmZmZmOUDNzMzMzMw+QJqZmZmZGTxAMzMzMzMzPUBmZmZmZmY+QGZmZmZmZjtAZmZmZmZmOEAzMzMzMzM9QGZmZmZmZjlAAAAAAACAOkAzMzMzM7M7QDMzMzMzM0BAAAAAAAAAOUA=",
            "dtype": "f8"
           }
          }
         ],
         "name": "2011"
        },
        {
         "data": [
          {
           "coloraxis": "coloraxis",
           "geo": "geo",
           "hovertemplate": "<b>%{hovertext}</b><br><br>YearStart=2012<br>LocationAbbr=%{location}<br>Data_Value=%{z}<extra></extra>",
           "hovertext": [
            "Alaska",
            "Alabama",
            "Arkansas",
            "Arizona",
            "California",
            "Colorado",
            "Connecticut",
            "District of Columbia",
            "Delaware",
            "Florida",
            "Georgia",
            "Hawaii",
            "Iowa",
            "Idaho",
            "Illinois",
            "Indiana",
            "Kansas",
            "Kentucky",
            "Louisiana",
            "Massachusetts",
            "Maryland",
            "Maine",
            "Michigan",
            "Minnesota",
            "Missouri",
            "Mississippi",
            "Montana",
            "North Carolina",
            "North Dakota",
            "Nebraska",
            "New Hampshire",
            "New Jersey",
            "New Mexico",
            "Nevada",
            "New York",
            "Ohio",
            "Oklahoma",
            "Oregon",
            "Pennsylvania",
            "Rhode Island",
            "South Carolina",
            "South Dakota",
            "Tennessee",
            "Texas",
            "National",
            "Utah",
            "Virginia",
            "Vermont",
            "Washington",
            "Wisconsin",
            "West Virginia",
            "Wyoming"
           ],
           "locationmode": "USA-states",
           "locations": [
            "AK",
            "AL",
            "AR",
            "AZ",
            "CA",
            "CO",
            "CT",
            "DC",
            "DE",
            "FL",
            "GA",
            "HI",
            "IA",
            "ID",
            "IL",
            "IN",
            "KS",
            "KY",
            "LA",
            "MA",
            "MD",
            "ME",
            "MI",
            "MN",
            "MO",
            "MS",
            "MT",
            "NC",
            "ND",
            "NE",
            "NH",
            "NJ",
            "NM",
            "NV",
            "NY",
            "OH",
            "OK",
            "OR",
            "PA",
            "RI",
            "SC",
            "SD",
            "TN",
            "TX",
            "US",
            "UT",
            "VA",
            "VT",
            "WA",
            "WI",
            "WV",
            "WY"
           ],
           "name": "",
           "type": "choropleth",
           "z": {
            "bdata": "MzMzMzOzOUAAAAAAAIBAQAAAAAAAQEFAAAAAAAAAOkAAAAAAAAA5QAAAAAAAgDRAmpmZmZmZOUBmZmZmZuY1QGZmZmZm5jpAMzMzMzMzOUCamZmZmRk9QJqZmZmZmTdAZmZmZmZmPkDNzMzMzMw6QJqZmZmZGTxAZmZmZmZmP0DNzMzMzMw9QM3MzMzMTD9AmpmZmZlZQUBmZmZmZuY2QJqZmZmZmTtAzczMzMxMPECamZmZmRk/QDMzMzMzszlAmpmZmZmZPUDNzMzMzExBQM3MzMzMTDhAmpmZmZmZPUAzMzMzM7M9QJqZmZmZmTxAzczMzMxMO0CamZmZmZk4QJqZmZmZGTtAMzMzMzMzOkCamZmZmZk3QJqZmZmZGT5AmpmZmZkZQEDNzMzMzEw7QJqZmZmZGT1AMzMzMzOzOUCamZmZmZk/QJqZmZmZGTxAmpmZmZkZP0AzMzMzMzM9QDMzMzMzsztAzczMzMxMOEBmZmZmZmY7QDMzMzMzszdAzczMzMzMOkAzMzMzM7M9QGZmZmZm5kBAmpmZmZmZOEA=",
            "dtype": "f8"
           }
          }
         ],
         "name": "2012"
        },
        {
         "data": [
          {
           "coloraxis": "coloraxis",
           "geo": "geo",
           "hovertemplate": "<b>%{hovertext}</b><br><br>YearStart=2013<br>LocationAbbr=%{location}<br>Data_Value=%{z}<extra></extra>",
           "hovertext": [
            "Alaska",
            "Alabama",
            "Arkansas",
            "Arizona",
            "California",
            "Colorado",
            "Connecticut",
            "District of Columbia",
            "Delaware",
            "Florida",
            "Georgia",
            "Hawaii",
            "Iowa",
            "Idaho",
            "Illinois",
            "Indiana",
            "Kansas",
            "Kentucky",
            "Louisiana",
            "Massachusetts",
            "Maryland",
            "Maine",
            "Michigan",
            "Minnesota",
            "Missouri",
            "Mississippi",
            "Montana",
            "North Carolina",
            "North Dakota",
            "Nebraska",
            "New Hampshire",
            "New Jersey",
            "New Mexico",
            "Nevada",
            "New York",
            "Ohio",
            "Oklahoma",
            "Oregon",
            "Pennsylvania",
            "Puerto Rico",
            "Rhode Island",
            "South Carolina",
            "South Dakota",
            "Tennessee",
            "Texas",
            "National",
            "Utah",
            "Virginia",
            "Vermont",
            "Washington",
            "Wisconsin",
            "West Virginia",
            "Wyoming"
           ],
           "locationmode": "USA-states",
           "locations": [
            "AK",
            "AL",
            "AR",
            "AZ",
            "CA",
            "CO",
            "CT",
            "DC",
            "DE",
            "FL",
            "GA",
            "HI",
            "IA",
            "ID",
            "IL",
            "IN",
            "KS",
            "KY",
            "LA",
            "MA",
            "MD",
            "ME",
            "MI",
            "MN",
            "MO",
            "MS",
            "MT",
            "NC",
            "ND",
            "NE",
            "NH",
            "NJ",
            "NM",
            "NV",
            "NY",
            "OH",
            "OK",
            "OR",
            "PA",
            "PR",
            "RI",
            "SC",
            "SD",
            "TN",
            "TX",
            "US",
            "UT",
            "VA",
            "VT",
            "WA",
            "WI",
            "WV",
            "WY"
           ],
           "name": "",
           "type": "choropleth",
           "z": {
            "bdata": "ZmZmZmZmPEAzMzMzMzNAQM3MzMzMTEFAzczMzMzMOkCamZmZmRk4QM3MzMzMTDVAAAAAAAAAOUBmZmZmZuY2QJqZmZmZGT9AZmZmZmZmOkDNzMzMzEw+QM3MzMzMzDVAzczMzMxMP0CamZmZmZk9QGZmZmZmZj1AzczMzMzMP0AAAAAAAAA+QJqZmZmZmUBAzczMzMyMQECamZmZmZk3QM3MzMzMTDxAZmZmZmbmPEAAAAAAAIA/QAAAAAAAgDlAZmZmZmZmPkDNzMzMzIxBQJqZmZmZmThAZmZmZmZmPUAAAAAAAAA/QJqZmZmZmT1AMzMzMzOzOkDNzMzMzEw6QGZmZmZmZjpAMzMzMzMzOkBmZmZmZmY5QGZmZmZmZj5AAAAAAABAQEAAAAAAAIA6QAAAAAAAAD5AZmZmZmbmO0DNzMzMzEw7QDMzMzMzsz9AZmZmZmbmPUCamZmZmdlAQGZmZmZm5j5AzczMzMxMPECamZmZmRk4QDMzMzMzMztAMzMzMzOzOEAzMzMzMzM7QM3MzMzMzD1AzczMzMyMQUDNzMzMzMw7QA==",
            "dtype": "f8"
           }
          }
         ],
         "name": "2013"
        },
        {
         "data": [
          {
           "coloraxis": "coloraxis",
           "geo": "geo",
           "hovertemplate": "<b>%{hovertext}</b><br><br>YearStart=2014<br>LocationAbbr=%{location}<br>Data_Value=%{z}<extra></extra>",
           "hovertext": [
            "Alaska",
            "Alabama",
            "Arkansas",
            "Arizona",
            "California",
            "Colorado",
            "Connecticut",
            "District of Columbia",
            "Delaware",
            "Florida",
            "Georgia",
            "Guam",
            "Hawaii",
            "Iowa",
            "Idaho",
            "Illinois",
            "Indiana",
            "Kansas",
            "Kentucky",
            "Louisiana",
            "Massachusetts",
            "Maryland",
            "Maine",
            "Michigan",
            "Minnesota",
            "Missouri",
            "Mississippi",
            "Montana",
            "North Carolina",
            "North Dakota",
            "Nebraska",
            "New Hampshire",
            "New Jersey",
            "New Mexico",
            "Nevada",
            "New York",
            "Ohio",
            "Oklahoma",
            "Oregon",
            "Pennsylvania",
            "Puerto Rico",
            "Rhode Island",
            "South Carolina",
            "South Dakota",
            "Tennessee",
            "Texas",
            "National",
            "Utah",
            "Virginia",
            "Vermont",
            "Washington",
            "Wisconsin",
            "West Virginia",
            "Wyoming"
           ],
           "locationmode": "USA-states",
           "locations": [
            "AK",
            "AL",
            "AR",
            "AZ",
            "CA",
            "CO",
            "CT",
            "DC",
            "DE",
            "FL",
            "GA",
            "GU",
            "HI",
            "IA",
            "ID",
            "IL",
            "IN",
            "KS",
            "KY",
            "LA",
            "MA",
            "MD",
            "ME",
            "MI",
            "MN",
            "MO",
            "MS",
            "MT",
            "NC",
            "ND",
            "NE",
            "NH",
            "NJ",
            "NM",
            "NV",
            "NY",
            "OH",
            "OK",
            "OR",
            "PA",
            "PR",
            "RI",
            "SC",
            "SD",
            "TN",
            "TX",
            "US",
            "UT",
            "VA",
            "VT",
            "WA",
            "WI",
            "WV",
            "WY"
           ],
           "name": "",
           "type": "choropleth",
           "z": {
            "bdata": "MzMzMzOzPUAAAAAAAMBAQDMzMzMz80FAZmZmZmbmPEAzMzMzM7M4QM3MzMzMTDVAzczMzMxMOkAzMzMzM7M1QDMzMzMzsz5AMzMzMzMzOkAAAAAAAIA+QAAAAAAAADxAmpmZmZkZNkBmZmZmZuY+QGZmZmZm5jxAzczMzMxMPUCamZmZmVlAQM3MzMzMTD9AmpmZmZmZP0AzMzMzM3NBQM3MzMzMTDdAmpmZmZmZPUAzMzMzMzM8QDMzMzMzsz5AmpmZmZmZO0AzMzMzMzM+QAAAAAAAwEFAZmZmZmZmOkAzMzMzM7M9QJqZmZmZGUBAMzMzMzMzPkBmZmZmZmY7QGZmZmZm5jpAZmZmZmZmPEAzMzMzM7M7QAAAAAAAADtAzczMzMxMQEAAAAAAAIBAQGZmZmZm5jtAMzMzMzMzPkDNzMzMzEw8QAAAAAAAADtAzczMzMwMQEDNzMzMzMw9QDMzMzMzMz9AZmZmZmbmP0BmZmZmZuY8QDMzMzMzszlAAAAAAACAPEDNzMzMzMw4QM3MzMzMTDtAMzMzMzMzP0CamZmZmdlBQAAAAAAAgD1A",
            "dtype": "f8"
           }
          }
         ],
         "name": "2014"
        },
        {
         "data": [
          {
           "coloraxis": "coloraxis",
           "geo": "geo",
           "hovertemplate": "<b>%{hovertext}</b><br><br>YearStart=2015<br>LocationAbbr=%{location}<br>Data_Value=%{z}<extra></extra>",
           "hovertext": [
            "Alaska",
            "Alabama",
            "Arkansas",
            "Arizona",
            "California",
            "Colorado",
            "Connecticut",
            "District of Columbia",
            "Delaware",
            "Florida",
            "Georgia",
            "Guam",
            "Hawaii",
            "Iowa",
            "Idaho",
            "Illinois",
            "Indiana",
            "Kansas",
            "Kentucky",
            "Louisiana",
            "Massachusetts",
            "Maryland",
            "Maine",
            "Michigan",
            "Minnesota",
            "Missouri",
            "Mississippi",
            "Montana",
            "North Carolina",
            "North Dakota",
            "Nebraska",
            "New Hampshire",
            "New Jersey",
            "New Mexico",
            "Nevada",
            "New York",
            "Ohio",
            "Oklahoma",
            "Oregon",
            "Pennsylvania",
            "Puerto Rico",
            "Rhode Island",
            "South Carolina",
            "South Dakota",
            "Tennessee",
            "Texas",
            "National",
            "Utah",
            "Virginia",
            "Vermont",
            "Washington",
            "Wisconsin",
            "West Virginia",
            "Wyoming"
           ],
           "locationmode": "USA-states",
           "locations": [
            "AK",
            "AL",
            "AR",
            "AZ",
            "CA",
            "CO",
            "CT",
            "DC",
            "DE",
            "FL",
            "GA",
            "GU",
            "HI",
            "IA",
            "ID",
            "IL",
            "IN",
            "KS",
            "KY",
            "LA",
            "MA",
            "MD",
            "ME",
            "MI",
            "MN",
            "MO",
            "MS",
            "MT",
            "NC",
            "ND",
            "NE",
            "NH",
            "NJ",
            "NM",
            "NV",
            "NY",
            "OH",
            "OK",
            "OR",
            "PA",
            "PR",
            "RI",
            "SC",
            "SD",
            "TN",
            "TX",
            "US",
            "UT",
            "VA",
            "VT",
            "WA",
            "WI",
            "WV",
            "WY"
           ],
           "name": "",
           "type": "choropleth",
           "z": {
            "bdata": "zczMzMzMPUDNzMzMzMxBQAAAAAAAQEFAZmZmZmZmPEAzMzMzMzM4QDMzMzMzMzRAzczMzMxMOUCamZmZmRk2QDMzMzMzsz1AzczMzMzMOkAzMzMzM7M+QJqZmZmZmT9AMzMzMzOzNkDNzMzMzAxAQJqZmZmZmTxAzczMzMzMPkDNzMzMzEw/QJqZmZmZGUFAzczMzMxMQUCamZmZmRlCQM3MzMzMTDhAZmZmZmbmPEAAAAAAAAA+QDMzMzMzMz9AmpmZmZkZOkAzMzMzMzNAQM3MzMzMzEFAmpmZmZmZN0CamZmZmRk+QAAAAAAAAD9AZmZmZmZmP0DNzMzMzEw6QJqZmZmZmTlAzczMzMzMPEAzMzMzM7M6QAAAAAAAADlAzczMzMzMPUAzMzMzM/NAQJqZmZmZGT5AAAAAAAAAPkAAAAAAAIA9QAAAAAAAADpAMzMzMzOzP0BmZmZmZmY+QGZmZmZm5kBAMzMzMzMzQEBmZmZmZuY8QAAAAAAAgDhAMzMzMzMzPUCamZmZmRk5QGZmZmZmZjpAMzMzMzOzPkDNzMzMzMxBQAAAAAAAAD1A",
            "dtype": "f8"
           }
          }
         ],
         "name": "2015"
        },
        {
         "data": [
          {
           "coloraxis": "coloraxis",
           "geo": "geo",
           "hovertemplate": "<b>%{hovertext}</b><br><br>YearStart=2016<br>LocationAbbr=%{location}<br>Data_Value=%{z}<extra></extra>",
           "hovertext": [
            "Alaska",
            "Alabama",
            "Arkansas",
            "Arizona",
            "California",
            "Colorado",
            "Connecticut",
            "District of Columbia",
            "Delaware",
            "Florida",
            "Georgia",
            "Guam",
            "Hawaii",
            "Iowa",
            "Idaho",
            "Illinois",
            "Indiana",
            "Kansas",
            "Kentucky",
            "Louisiana",
            "Massachusetts",
            "Maryland",
            "Maine",
            "Michigan",
            "Minnesota",
            "Missouri",
            "Mississippi",
            "Montana",
            "North Carolina",
            "North Dakota",
            "Nebraska",
            "New Hampshire",
            "New Jersey",
            "New Mexico",
            "Nevada",
            "New York",
            "Ohio",
            "Oklahoma",
            "Oregon",
            "Pennsylvania",
            "Puerto Rico",
            "Rhode Island",
            "South Carolina",
            "South Dakota",
            "Tennessee",
            "Texas",
            "National",
            "Utah",
            "Virginia",
            "Virgin Islands",
            "Vermont",
            "Washington",
            "Wisconsin",
            "West Virginia",
            "Wyoming"
           ],
           "locationmode": "USA-states",
           "locations": [
            "AK",
            "AL",
            "AR",
            "AZ",
            "CA",
            "CO",
            "CT",
            "DC",
            "DE",
            "FL",
            "GA",
            "GU",
            "HI",
            "IA",
            "ID",
            "IL",
            "IN",
            "KS",
            "KY",
            "LA",
            "MA",
            "MD",
            "ME",
            "MI",
            "MN",
            "MO",
            "MS",
            "MT",
            "NC",
            "ND",
            "NE",
            "NH",
            "NJ",
            "NM",
            "NV",
            "NY",
            "OH",
            "OK",
            "OR",
            "PA",
            "PR",
            "RI",
            "SC",
            "SD",
            "TN",
            "TX",
            "US",
            "UT",
            "VA",
            "VI",
            "VT",
            "WA",
            "WI",
            "WV",
            "WY"
           ],
           "name": "",
           "type": "choropleth",
           "z": {
            "bdata": "ZmZmZmZmP0CamZmZmdlBQJqZmZmZ2UFAAAAAAAAAPUAAAAAAAAA5QM3MzMzMTDZAAAAAAAAAOkCamZmZmZk2QDMzMzMzsz5AZmZmZmZmO0BmZmZmZmY/QM3MzMzMTDxAzczMzMzMN0AAAAAAAABAQGZmZmZmZjtAmpmZmZmZP0AAAAAAAEBAQDMzMzMzMz9AmpmZmZkZQUAAAAAAAMBBQJqZmZmZmTdAZmZmZmbmPUBmZmZmZuY9QAAAAAAAQEBAzczMzMzMO0AzMzMzM7M/QGZmZmZmpkJAAAAAAACAOUDNzMzMzMw/QGZmZmZm5j9AAAAAAAAAQECamZmZmZk6QGZmZmZmZjtAzczMzMxMPEDNzMzMzMw5QAAAAAAAgDlAAAAAAACAP0BmZmZmZmZAQDMzMzMzszxAzczMzMxMPkAzMzMzM7M+QJqZmZmZmTpAZmZmZmYmQECamZmZmZk9QGZmZmZmZkFAmpmZmZnZQECamZmZmZk9QGZmZmZmZjlAAAAAAAAAPUAAAAAAAEBAQJqZmZmZGTtAmpmZmZmZPEAzMzMzM7M+QJqZmZmZ2UJAMzMzMzOzO0A=",
            "dtype": "f8"
           }
          }
         ],
         "name": "2016"
        },
        {
         "data": [
          {
           "coloraxis": "coloraxis",
           "geo": "geo",
           "hovertemplate": "<b>%{hovertext}</b><br><br>YearStart=2017<br>LocationAbbr=%{location}<br>Data_Value=%{z}<extra></extra>",
           "hovertext": [
            "Alaska",
            "Alabama",
            "Arkansas",
            "Arizona",
            "California",
            "Colorado",
            "Connecticut",
            "District of Columbia",
            "Delaware",
            "Florida",
            "Georgia",
            "Guam",
            "Hawaii",
            "Iowa",
            "Idaho",
            "Illinois",
            "Indiana",
            "Kansas",
            "Kentucky",
            "Louisiana",
            "Massachusetts",
            "Maryland",
            "Maine",
            "Michigan",
            "Minnesota",
            "Missouri",
            "Mississippi",
            "Montana",
            "North Carolina",
            "North Dakota",
            "Nebraska",
            "New Hampshire",
            "New Jersey",
            "New Mexico",
            "Nevada",
            "New York",
            "Ohio",
            "Oklahoma",
            "Oregon",
            "Pennsylvania",
            "Puerto Rico",
            "Rhode Island",
            "South Carolina",
            "South Dakota",
            "Tennessee",
            "Texas",
            "National",
            "Utah",
            "Virginia",
            "Vermont",
            "Washington",
            "Wisconsin",
            "West Virginia",
            "Wyoming"
           ],
           "locationmode": "USA-states",
           "locations": [
            "AK",
            "AL",
            "AR",
            "AZ",
            "CA",
            "CO",
            "CT",
            "DC",
            "DE",
            "FL",
            "GA",
            "GU",
            "HI",
            "IA",
            "ID",
            "IL",
            "IN",
            "KS",
            "KY",
            "LA",
            "MA",
            "MD",
            "ME",
            "MI",
            "MN",
            "MO",
            "MS",
            "MT",
            "NC",
            "ND",
            "NE",
            "NH",
            "NJ",
            "NM",
            "NV",
            "NY",
            "OH",
            "OK",
            "OR",
            "PA",
            "PR",
            "RI",
            "SC",
            "SD",
            "TN",
            "TX",
            "US",
            "UT",
            "VA",
            "VT",
            "WA",
            "WI",
            "WV",
            "WY"
           ],
           "name": "",
           "type": "choropleth",
           "z": {
            "bdata": "mpmZmZkZQUBmZmZmZiZCQAAAAAAAgEFAAAAAAACAPUCamZmZmRk5QJqZmZmZmTZAZmZmZmbmOkAAAAAAAAA3QM3MzMzMzD9AZmZmZmZmPECamZmZmZk/QGZmZmZmJkFAzczMzMzMN0AzMzMzMzNCQM3MzMzMTD1AmpmZmZkZP0DNzMzMzMxAQDMzMzMzM0BAZmZmZmYmQUCamZmZmRlCQGZmZmZm5jlAzczMzMxMP0CamZmZmRk9QGZmZmZmJkBAZmZmZmZmPEAAAAAAAEBAQGZmZmZmpkJAzczMzMxMOUDNzMzMzAxAQJqZmZmZmUBAZmZmZmZmQECamZmZmRk8QM3MzMzMTDtAZmZmZmZmPEAzMzMzM7M6QDMzMzMzszlAZmZmZmbmQEAAAAAAAEBCQGZmZmZmZj1AmpmZmZmZP0AzMzMzM3NAQAAAAAAAAD5AzczMzMwMQUBmZmZmZuY/QGZmZmZmZkBAAAAAAACAQECamZmZmRk+QM3MzMzMTDlAmpmZmZkZPkCamZmZmZk7QDMzMzMzsztAAAAAAAAAQEDNzMzMzAxDQM3MzMzMzDxA",
            "dtype": "f8"
           }
          }
         ],
         "name": "2017"
        },
        {
         "data": [
          {
           "coloraxis": "coloraxis",
           "geo": "geo",
           "hovertemplate": "<b>%{hovertext}</b><br><br>YearStart=2018<br>LocationAbbr=%{location}<br>Data_Value=%{z}<extra></extra>",
           "hovertext": [
            "Alaska",
            "Alabama",
            "Arkansas",
            "Arizona",
            "California",
            "Colorado",
            "Connecticut",
            "District of Columbia",
            "Delaware",
            "Florida",
            "Georgia",
            "Guam",
            "Hawaii",
            "Iowa",
            "Idaho",
            "Illinois",
            "Indiana",
            "Kansas",
            "Kentucky",
            "Louisiana",
            "Massachusetts",
            "Maryland",
            "Maine",
            "Michigan",
            "Minnesota",
            "Missouri",
            "Mississippi",
            "Montana",
            "North Carolina",
            "North Dakota",
            "Nebraska",
            "New Hampshire",
            "New Jersey",
            "New Mexico",
            "Nevada",
            "New York",
            "Ohio",
            "Oklahoma",
            "Oregon",
            "Pennsylvania",
            "Puerto Rico",
            "Rhode Island",
            "South Carolina",
            "South Dakota",
            "Tennessee",
            "Texas",
            "National",
            "Utah",
            "Virginia",
            "Vermont",
            "Washington",
            "Wisconsin",
            "West Virginia",
            "Wyoming"
           ],
           "locationmode": "USA-states",
           "locations": [
            "AK",
            "AL",
            "AR",
            "AZ",
            "CA",
            "CO",
            "CT",
            "DC",
            "DE",
            "FL",
            "GA",
            "GU",
            "HI",
            "IA",
            "ID",
            "IL",
            "IN",
            "KS",
            "KY",
            "LA",
            "MA",
            "MD",
            "ME",
            "MI",
            "MN",
            "MO",
            "MS",
            "MT",
            "NC",
            "ND",
            "NE",
            "NH",
            "NJ",
            "NM",
            "NV",
            "NY",
            "OH",
            "OK",
            "OR",
            "PA",
            "PR",
            "RI",
            "SC",
            "SD",
            "TN",
            "TX",
            "US",
            "UT",
            "VA",
            "VT",
            "WA",
            "WI",
            "WV",
            "WY"
           ],
           "name": "",
           "type": "choropleth",
           "z": {
            "bdata": "AAAAAACAPUCamZmZmRlCQM3MzMzMjEJAAAAAAACAPUDNzMzMzMw5QAAAAAAAADdAZmZmZmZmO0AzMzMzM7M4QAAAAAAAwEBAMzMzMzOzPkAAAAAAAEBAQM3MzMzMzD1AZmZmZmbmOEBmZmZmZqZBQGZmZmZmZjxAzczMzMzMP0DNzMzMzAxBQDMzMzMzM0FAzczMzMxMQkBmZmZmZmZCQDMzMzMzszlAZmZmZmbmPkBmZmZmZmY+QAAAAAAAgEBAmpmZmZkZPkAAAAAAAIBBQAAAAAAAwENAZmZmZmbmOkAAAAAAAIBAQM3MzMzMjEFAzczMzMwMQUCamZmZmZk9QDMzMzMzszlAZmZmZmYmQEAAAAAAAIA9QJqZmZmZmTtAAAAAAAAAQUBmZmZmZmZBQGZmZmZm5j1AZmZmZmbmPkAzMzMzM3NAQDMzMzMzsztAZmZmZmYmQUCamZmZmRk+QDMzMzMzM0FAZmZmZmZmQUBmZmZmZuY+QM3MzMzMzDtAZmZmZmZmPkAAAAAAAIA7QDMzMzMzszxAAAAAAAAAQEAAAAAAAMBDQAAAAAAAAD1A",
            "dtype": "f8"
           }
          }
         ],
         "name": "2018"
        },
        {
         "data": [
          {
           "coloraxis": "coloraxis",
           "geo": "geo",
           "hovertemplate": "<b>%{hovertext}</b><br><br>YearStart=2019<br>LocationAbbr=%{location}<br>Data_Value=%{z}<extra></extra>",
           "hovertext": [
            "Alaska",
            "Alabama",
            "Arkansas",
            "Arizona",
            "California",
            "Colorado",
            "Connecticut",
            "District of Columbia",
            "Delaware",
            "Florida",
            "Georgia",
            "Guam",
            "Hawaii",
            "Iowa",
            "Idaho",
            "Illinois",
            "Indiana",
            "Kansas",
            "Kentucky",
            "Louisiana",
            "Massachusetts",
            "Maryland",
            "Maine",
            "Michigan",
            "Minnesota",
            "Missouri",
            "Mississippi",
            "Montana",
            "North Carolina",
            "North Dakota",
            "Nebraska",
            "New Hampshire",
            "New Mexico",
            "Nevada",
            "New York",
            "Ohio",
            "Oklahoma",
            "Oregon",
            "Pennsylvania",
            "Puerto Rico",
            "Rhode Island",
            "South Carolina",
            "South Dakota",
            "Tennessee",
            "Texas",
            "National",
            "Utah",
            "Virginia",
            "Vermont",
            "Washington",
            "Wisconsin",
            "West Virginia",
            "Wyoming"
           ],
           "locationmode": "USA-states",
           "locations": [
            "AK",
            "AL",
            "AR",
            "AZ",
            "CA",
            "CO",
            "CT",
            "DC",
            "DE",
            "FL",
            "GA",
            "GU",
            "HI",
            "IA",
            "ID",
            "IL",
            "IN",
            "KS",
            "KY",
            "LA",
            "MA",
            "MD",
            "ME",
            "MI",
            "MN",
            "MO",
            "MS",
            "MT",
            "NC",
            "ND",
            "NE",
            "NH",
            "NM",
            "NV",
            "NY",
            "OH",
            "OK",
            "OR",
            "PA",
            "PR",
            "RI",
            "SC",
            "SD",
            "TN",
            "TX",
            "US",
            "UT",
            "VA",
            "VT",
            "WA",
            "WI",
            "WV",
            "WY"
           ],
           "name": "",
           "type": "choropleth",
           "z": {
            "bdata": "AAAAAACAPkDNzMzMzAxCQDMzMzMzs0JAZmZmZmZmP0AzMzMzMzM6QM3MzMzMzDdAmpmZmZkZPUDNzMzMzMw3QDMzMzMzM0FAAAAAAAAAO0DNzMzMzIxAQM3MzMzMzEBAAAAAAAAAOUAzMzMzM/NAQAAAAAAAgD1AmpmZmZmZP0BmZmZmZqZBQJqZmZmZmUFAAAAAAABAQkAzMzMzM/NBQDMzMzMzMzlAZmZmZmYmQEAzMzMzM7M/QAAAAAAAAEJAmpmZmZkZPkBmZmZmZmZBQGZmZmZmZkRAzczMzMxMPEAAAAAAAABBQGZmZmZmZkFAzczMzMwMQUDNzMzMzMw/QDMzMzMzsz9AmpmZmZmZPkCamZmZmRk7QGZmZmZmZkFAZmZmZmZmQkAAAAAAAAA9QJqZmZmZmUBAAAAAAABAQEAAAAAAAAA+QDMzMzMzs0FAAAAAAACAQEAAAAAAAEBCQAAAAAAAAEFAZmZmZmZmP0AzMzMzMzM9QGZmZmZm5j9AmpmZmZmZOkDNzMzMzEw8QJqZmZmZGUFAmpmZmZnZQ0AzMzMzM7M9QA==",
            "dtype": "f8"
           }
          }
         ],
         "name": "2019"
        },
        {
         "data": [
          {
           "coloraxis": "coloraxis",
           "geo": "geo",
           "hovertemplate": "<b>%{hovertext}</b><br><br>YearStart=2020<br>LocationAbbr=%{location}<br>Data_Value=%{z}<extra></extra>",
           "hovertext": [
            "Alaska",
            "Alabama",
            "Arkansas",
            "Arizona",
            "California",
            "Colorado",
            "Connecticut",
            "District of Columbia",
            "Delaware",
            "Florida",
            "Georgia",
            "Guam",
            "Hawaii",
            "Iowa",
            "Idaho",
            "Illinois",
            "Indiana",
            "Kansas",
            "Kentucky",
            "Louisiana",
            "Massachusetts",
            "Maryland",
            "Maine",
            "Michigan",
            "Minnesota",
            "Missouri",
            "Mississippi",
            "Montana",
            "North Carolina",
            "North Dakota",
            "Nebraska",
            "New Hampshire",
            "New Jersey",
            "New Mexico",
            "Nevada",
            "New York",
            "Ohio",
            "Oklahoma",
            "Oregon",
            "Pennsylvania",
            "Puerto Rico",
            "Rhode Island",
            "South Carolina",
            "South Dakota",
            "Tennessee",
            "Texas",
            "National",
            "Utah",
            "Virginia",
            "Vermont",
            "Washington",
            "Wisconsin",
            "West Virginia",
            "Wyoming"
           ],
           "locationmode": "USA-states",
           "locations": [
            "AK",
            "AL",
            "AR",
            "AZ",
            "CA",
            "CO",
            "CT",
            "DC",
            "DE",
            "FL",
            "GA",
            "GU",
            "HI",
            "IA",
            "ID",
            "IL",
            "IN",
            "KS",
            "KY",
            "LA",
            "MA",
            "MD",
            "ME",
            "MI",
            "MN",
            "MO",
            "MS",
            "MT",
            "NC",
            "ND",
            "NE",
            "NH",
            "NJ",
            "NM",
            "NV",
            "NY",
            "OH",
            "OK",
            "OR",
            "PA",
            "PR",
            "RI",
            "SC",
            "SD",
            "TN",
            "TX",
            "US",
            "UT",
            "VA",
            "VT",
            "WA",
            "WI",
            "WV",
            "WY"
           ],
           "name": "",
           "type": "choropleth",
           "z": {
            "bdata": "ZmZmZmbmP0AAAAAAAIBDQDMzMzMzM0JAZmZmZmbmPkDNzMzMzEw+QDMzMzMzMzhAMzMzMzMzPUDNzMzMzEw4QAAAAAAAQEJAZmZmZmZmPEBmZmZmZiZBQDMzMzMzM0FAAAAAAACAOEAAAAAAAEBCQJqZmZmZGT9AMzMzMzMzQEBmZmZmZmZCQGZmZmZmpkFAzczMzMxMQkDNzMzMzAxDQGZmZmZmZjhAAAAAAAAAP0AAAAAAAAA/QJqZmZmZmUFAMzMzMzOzPkAAAAAAAABBQJqZmZmZ2UNAAAAAAACAPEDNzMzMzMxAQM3MzMzMjEBAAAAAAAAAQUBmZmZmZuY9QDMzMzMzsztAZmZmZmbmPkAzMzMzM7M8QM3MzMzMTDpAAAAAAADAQUAzMzMzMzNCQJqZmZmZGTxAAAAAAACAP0BmZmZmZmY/QJqZmZmZGT5AmpmZmZkZQkCamZmZmZlAQM3MzMzMzEFAZmZmZmbmQUBmZmZmZuY/QJqZmZmZmTxAmpmZmZkZQEDNzMzMzEw6QAAAAAAAADxAZmZmZmYmQEDNzMzMzIxDQDMzMzMzsz5A",
            "dtype": "f8"
           }
          }
         ],
         "name": "2020"
        },
        {
         "data": [
          {
           "coloraxis": "coloraxis",
           "geo": "geo",
           "hovertemplate": "<b>%{hovertext}</b><br><br>YearStart=2021<br>LocationAbbr=%{location}<br>Data_Value=%{z}<extra></extra>",
           "hovertext": [
            "Alaska",
            "Alabama",
            "Arkansas",
            "Arizona",
            "California",
            "Colorado",
            "Connecticut",
            "District of Columbia",
            "Delaware",
            "Georgia",
            "Guam",
            "Hawaii",
            "Iowa",
            "Idaho",
            "Illinois",
            "Indiana",
            "Kansas",
            "Kentucky",
            "Louisiana",
            "Massachusetts",
            "Maryland",
            "Maine",
            "Michigan",
            "Minnesota",
            "Missouri",
            "Mississippi",
            "Montana",
            "North Carolina",
            "North Dakota",
            "Nebraska",
            "New Hampshire",
            "New Jersey",
            "New Mexico",
            "Nevada",
            "New York",
            "Ohio",
            "Oklahoma",
            "Oregon",
            "Pennsylvania",
            "Puerto Rico",
            "Rhode Island",
            "South Carolina",
            "South Dakota",
            "Tennessee",
            "Texas",
            "National",
            "Utah",
            "Virginia",
            "Virgin Islands",
            "Vermont",
            "Washington",
            "Wisconsin",
            "West Virginia",
            "Wyoming"
           ],
           "locationmode": "USA-states",
           "locations": [
            "AK",
            "AL",
            "AR",
            "AZ",
            "CA",
            "CO",
            "CT",
            "DC",
            "DE",
            "GA",
            "GU",
            "HI",
            "IA",
            "ID",
            "IL",
            "IN",
            "KS",
            "KY",
            "LA",
            "MA",
            "MD",
            "ME",
            "MI",
            "MN",
            "MO",
            "MS",
            "MT",
            "NC",
            "ND",
            "NE",
            "NH",
            "NJ",
            "NM",
            "NV",
            "NY",
            "OH",
            "OK",
            "OR",
            "PA",
            "PR",
            "RI",
            "SC",
            "SD",
            "TN",
            "TX",
            "US",
            "UT",
            "VA",
            "VI",
            "VT",
            "WA",
            "WI",
            "WV",
            "WY"
           ],
           "name": "",
           "type": "choropleth",
           "z": {
            "bdata": "AAAAAADAQEAzMzMzM/NDQJqZmZmZWUNAzczMzMxMP0CamZmZmZk7QJqZmZmZGTlAZmZmZmZmPkAzMzMzM7M4QDMzMzMz80BAMzMzMzPzQEAAAAAAAMBAQAAAAAAAADlAMzMzMzMzQkCamZmZmZk/QJqZmZmZGUFAZmZmZmYmQkAAAAAAAABCQGZmZmZmJkRAzczMzMxMQ0BmZmZmZmY7QGZmZmZmJkFAZmZmZmbmP0AzMzMzMzNBQDMzMzMzM0BAZmZmZmamQkDNzMzMzIxDQM3MzMzMzD9AAAAAAAAAQkCamZmZmZlBQDMzMzMz80FAmpmZmZmZPkAzMzMzMzM8QM3MzMzMTEFAzczMzMxMP0CamZmZmRk9QGZmZmZm5kJAMzMzMzOzQ0BmZmZmZmY+QGZmZmZmpkBAAAAAAAAAQkCamZmZmRk+QM3MzMzMDEJAMzMzMzMzQ0AAAAAAAIBBQM3MzMzMDEJAAAAAAACAQEBmZmZmZuY+QJqZmZmZGUFAzczMzMzMQUAAAAAAAAA9QM3MzMzMzDxAMzMzMzPzQEDNzMzMzExEQAAAAAAAAEBA",
            "dtype": "f8"
           }
          }
         ],
         "name": "2021"
        },
        {
         "data": [
          {
           "coloraxis": "coloraxis",
           "geo": "geo",
           "hovertemplate": "<b>%{hovertext}</b><br><br>YearStart=2022<br>LocationAbbr=%{location}<br>Data_Value=%{z}<extra></extra>",
           "hovertext": [
            "Alaska",
            "Alabama",
            "Arkansas",
            "Arizona",
            "California",
            "Colorado",
            "Connecticut",
            "District of Columbia",
            "Delaware",
            "Florida",
            "Georgia",
            "Guam",
            "Hawaii",
            "Iowa",
            "Idaho",
            "Illinois",
            "Indiana",
            "Kansas",
            "Kentucky",
            "Louisiana",
            "Massachusetts",
            "Maryland",
            "Maine",
            "Michigan",
            "Minnesota",
            "Missouri",
            "Mississippi",
            "Montana",
            "North Carolina",
            "North Dakota",
            "Nebraska",
            "New Hampshire",
            "New Jersey",
            "New Mexico",
            "Nevada",
            "New York",
            "Ohio",
            "Oklahoma",
            "Oregon",
            "Pennsylvania",
            "Puerto Rico",
            "Rhode Island",
            "South Carolina",
            "South Dakota",
            "Tennessee",
            "Texas",
            "National",
            "Utah",
            "Virginia",
            "Virgin Islands",
            "Vermont",
            "Washington",
            "Wisconsin",
            "West Virginia",
            "Wyoming"
           ],
           "locationmode": "USA-states",
           "locations": [
            "AK",
            "AL",
            "AR",
            "AZ",
            "CA",
            "CO",
            "CT",
            "DC",
            "DE",
            "FL",
            "GA",
            "GU",
            "HI",
            "IA",
            "ID",
            "IL",
            "IN",
            "KS",
            "KY",
            "LA",
            "MA",
            "MD",
            "ME",
            "MI",
            "MN",
            "MO",
            "MS",
            "MT",
            "NC",
            "ND",
            "NE",
            "NH",
            "NJ",
            "NM",
            "NV",
            "NY",
            "OH",
            "OK",
            "OR",
            "PA",
            "PR",
            "RI",
            "SC",
            "SD",
            "TN",
            "TX",
            "US",
            "UT",
            "VA",
            "VI",
            "VT",
            "WA",
            "WI",
            "WV",
            "WY"
           ],
           "name": "",
           "type": "choropleth",
           "z": {
            "bdata": "zczMzMwMQEBmZmZmZiZDQDMzMzMzs0JAmpmZmZmZQECamZmZmRk8QAAAAAAAADlAmpmZmZmZPkDNzMzMzEw4QDMzMzMz80JAmpmZmZmZP0AAAAAAAIBCQJqZmZmZWUBAZmZmZmbmOUAzMzMzM7NCQJqZmZmZmUBAMzMzMzOzQECamZmZmdlCQJqZmZmZ2UFAmpmZmZnZQkDNzMzMzAxEQDMzMzMzMztAmpmZmZmZQEDNzMzMzIxAQAAAAAAAQEFAzczMzMzMQEAzMzMzMzNCQAAAAAAAwENAAAAAAACAPkDNzMzMzAxBQDMzMzMzs0FAZmZmZmamQUAzMzMzMzM+QJqZmZmZGT1AMzMzMzMzQEAAAAAAAMBAQJqZmZmZGT5AzczMzMwMQ0AAAAAAAABEQGZmZmZm5j5AMzMzMzOzQEDNzMzMzAxBQM3MzMzMzD5AAAAAAACAQUBmZmZmZmZCQDMzMzMzc0NAAAAAAADAQUBmZmZmZqZAQJqZmZmZGT9AmpmZmZmZQUDNzMzMzAxAQM3MzMzMzDpAMzMzMzOzP0CamZmZmdlCQAAAAAAAgERAZmZmZmYmQUA=",
            "dtype": "f8"
           }
          }
         ],
         "name": "2022"
        },
        {
         "data": [
          {
           "coloraxis": "coloraxis",
           "geo": "geo",
           "hovertemplate": "<b>%{hovertext}</b><br><br>YearStart=2023<br>LocationAbbr=%{location}<br>Data_Value=%{z}<extra></extra>",
           "hovertext": [
            "Alaska",
            "Alabama",
            "Arkansas",
            "Arizona",
            "California",
            "Colorado",
            "Connecticut",
            "District of Columbia",
            "Delaware",
            "Florida",
            "Georgia",
            "Guam",
            "Hawaii",
            "Iowa",
            "Idaho",
            "Illinois",
            "Indiana",
            "Kansas",
            "Louisiana",
            "Massachusetts",
            "Maryland",
            "Maine",
            "Michigan",
            "Minnesota",
            "Missouri",
            "Mississippi",
            "Montana",
            "North Carolina",
            "North Dakota",
            "Nebraska",
            "New Hampshire",
            "New Jersey",
            "New Mexico",
            "Nevada",
            "New York",
            "Ohio",
            "Oklahoma",
            "Oregon",
            "Puerto Rico",
            "Rhode Island",
            "South Carolina",
            "South Dakota",
            "Tennessee",
            "Texas",
            "National",
            "Utah",
            "Virginia",
            "Virgin Islands",
            "Vermont",
            "Washington",
            "Wisconsin",
            "West Virginia",
            "Wyoming"
           ],
           "locationmode": "USA-states",
           "locations": [
            "AK",
            "AL",
            "AR",
            "AZ",
            "CA",
            "CO",
            "CT",
            "DC",
            "DE",
            "FL",
            "GA",
            "GU",
            "HI",
            "IA",
            "ID",
            "IL",
            "IN",
            "KS",
            "LA",
            "MA",
            "MD",
            "ME",
            "MI",
            "MN",
            "MO",
            "MS",
            "MT",
            "NC",
            "ND",
            "NE",
            "NH",
            "NJ",
            "NM",
            "NV",
            "NY",
            "OH",
            "OK",
            "OR",
            "PR",
            "RI",
            "SC",
            "SD",
            "TN",
            "TX",
            "US",
            "UT",
            "VA",
            "VI",
            "VT",
            "WA",
            "WI",
            "WV",
            "WY"
           ],
           "name": "",
           "type": "choropleth",
           "z": {
            "bdata": "mpmZmZmZQUCamZmZmZlDQAAAAAAAAERAZmZmZmbmP0AzMzMzM7M7QGZmZmZm5jhAZmZmZmZmPUAAAAAAAIA3QJqZmZmZ2UFAmpmZmZkZPkAAAAAAAIBBQDMzMzMzs0FAmpmZmZkZOkBmZmZmZuZCQAAAAAAAAD9AAAAAAAAAQkBmZmZmZuZCQDMzMzMz80FAMzMzMzPzQ0BmZmZmZmY7QM3MzMzMDEFAzczMzMxMQEAzMzMzM7NBQGZmZmZmpkBAZmZmZmamQUDNzMzMzAxEQAAAAAAAgD5AAAAAAAAAQUDNzMzMzMxBQM3MzMzMTEJAZmZmZmZmQEBmZmZmZuY8QGZmZmZmpkFAzczMzMzMPkAAAAAAAAA8QDMzMzMzM0JAmpmZmZlZQ0DNzMzMzMxAQAAAAAAAAEJAmpmZmZmZP0AAAAAAAABCQAAAAAAAAEJAzczMzMzMQkAzMzMzMzNBQGZmZmZmZkBAMzMzMzMzPkBmZmZmZiZBQM3MzMzMDEBAzczMzMzMPECamZmZmZk+QDMzMzMz80FAmpmZmZmZREBmZmZmZqZAQA==",
            "dtype": "f8"
           }
          }
         ],
         "name": "2023"
        }
       ],
       "layout": {
        "coloraxis": {
         "colorbar": {
          "title": {
           "text": "Data_Value"
          }
         },
         "colorscale": [
          [
           0,
           "rgb(247,251,255)"
          ],
          [
           0.125,
           "rgb(222,235,247)"
          ],
          [
           0.25,
           "rgb(198,219,239)"
          ],
          [
           0.375,
           "rgb(158,202,225)"
          ],
          [
           0.5,
           "rgb(107,174,214)"
          ],
          [
           0.625,
           "rgb(66,146,198)"
          ],
          [
           0.75,
           "rgb(33,113,181)"
          ],
          [
           0.875,
           "rgb(8,81,156)"
          ],
          [
           1,
           "rgb(8,48,107)"
          ]
         ]
        },
        "geo": {
         "center": {},
         "domain": {
          "x": [
           0,
           1
          ],
          "y": [
           0,
           1
          ]
         },
         "scope": "usa"
        },
        "legend": {
         "tracegroupgap": 0
        },
        "sliders": [
         {
          "active": 0,
          "currentvalue": {
           "prefix": "YearStart="
          },
          "len": 0.9,
          "pad": {
           "b": 10,
           "t": 60
          },
          "steps": [
           {
            "args": [
             [
              "2011"
             ],
             {
              "frame": {
               "duration": 0,
               "redraw": true
              },
              "fromcurrent": true,
              "mode": "immediate",
              "transition": {
               "duration": 0,
               "easing": "linear"
              }
             }
            ],
            "label": "2011",
            "method": "animate"
           },
           {
            "args": [
             [
              "2012"
             ],
             {
              "frame": {
               "duration": 0,
               "redraw": true
              },
              "fromcurrent": true,
              "mode": "immediate",
              "transition": {
               "duration": 0,
               "easing": "linear"
              }
             }
            ],
            "label": "2012",
            "method": "animate"
           },
           {
            "args": [
             [
              "2013"
             ],
             {
              "frame": {
               "duration": 0,
               "redraw": true
              },
              "fromcurrent": true,
              "mode": "immediate",
              "transition": {
               "duration": 0,
               "easing": "linear"
              }
             }
            ],
            "label": "2013",
            "method": "animate"
           },
           {
            "args": [
             [
              "2014"
             ],
             {
              "frame": {
               "duration": 0,
               "redraw": true
              },
              "fromcurrent": true,
              "mode": "immediate",
              "transition": {
               "duration": 0,
               "easing": "linear"
              }
             }
            ],
            "label": "2014",
            "method": "animate"
           },
           {
            "args": [
             [
              "2015"
             ],
             {
              "frame": {
               "duration": 0,
               "redraw": true
              },
              "fromcurrent": true,
              "mode": "immediate",
              "transition": {
               "duration": 0,
               "easing": "linear"
              }
             }
            ],
            "label": "2015",
            "method": "animate"
           },
           {
            "args": [
             [
              "2016"
             ],
             {
              "frame": {
               "duration": 0,
               "redraw": true
              },
              "fromcurrent": true,
              "mode": "immediate",
              "transition": {
               "duration": 0,
               "easing": "linear"
              }
             }
            ],
            "label": "2016",
            "method": "animate"
           },
           {
            "args": [
             [
              "2017"
             ],
             {
              "frame": {
               "duration": 0,
               "redraw": true
              },
              "fromcurrent": true,
              "mode": "immediate",
              "transition": {
               "duration": 0,
               "easing": "linear"
              }
             }
            ],
            "label": "2017",
            "method": "animate"
           },
           {
            "args": [
             [
              "2018"
             ],
             {
              "frame": {
               "duration": 0,
               "redraw": true
              },
              "fromcurrent": true,
              "mode": "immediate",
              "transition": {
               "duration": 0,
               "easing": "linear"
              }
             }
            ],
            "label": "2018",
            "method": "animate"
           },
           {
            "args": [
             [
              "2019"
             ],
             {
              "frame": {
               "duration": 0,
               "redraw": true
              },
              "fromcurrent": true,
              "mode": "immediate",
              "transition": {
               "duration": 0,
               "easing": "linear"
              }
             }
            ],
            "label": "2019",
            "method": "animate"
           },
           {
            "args": [
             [
              "2020"
             ],
             {
              "frame": {
               "duration": 0,
               "redraw": true
              },
              "fromcurrent": true,
              "mode": "immediate",
              "transition": {
               "duration": 0,
               "easing": "linear"
              }
             }
            ],
            "label": "2020",
            "method": "animate"
           },
           {
            "args": [
             [
              "2021"
             ],
             {
              "frame": {
               "duration": 0,
               "redraw": true
              },
              "fromcurrent": true,
              "mode": "immediate",
              "transition": {
               "duration": 0,
               "easing": "linear"
              }
             }
            ],
            "label": "2021",
            "method": "animate"
           },
           {
            "args": [
             [
              "2022"
             ],
             {
              "frame": {
               "duration": 0,
               "redraw": true
              },
              "fromcurrent": true,
              "mode": "immediate",
              "transition": {
               "duration": 0,
               "easing": "linear"
              }
             }
            ],
            "label": "2022",
            "method": "animate"
           },
           {
            "args": [
             [
              "2023"
             ],
             {
              "frame": {
               "duration": 0,
               "redraw": true
              },
              "fromcurrent": true,
              "mode": "immediate",
              "transition": {
               "duration": 0,
               "easing": "linear"
              }
             }
            ],
            "label": "2023",
            "method": "animate"
           }
          ],
          "x": 0.1,
          "xanchor": "left",
          "y": 0,
          "yanchor": "top"
         }
        ],
        "template": {
         "data": {
          "bar": [
           {
            "error_x": {
             "color": "#2a3f5f"
            },
            "error_y": {
             "color": "#2a3f5f"
            },
            "marker": {
             "line": {
              "color": "#E5ECF6",
              "width": 0.5
             },
             "pattern": {
              "fillmode": "overlay",
              "size": 10,
              "solidity": 0.2
             }
            },
            "type": "bar"
           }
          ],
          "barpolar": [
           {
            "marker": {
             "line": {
              "color": "#E5ECF6",
              "width": 0.5
             },
             "pattern": {
              "fillmode": "overlay",
              "size": 10,
              "solidity": 0.2
             }
            },
            "type": "barpolar"
           }
          ],
          "carpet": [
           {
            "aaxis": {
             "endlinecolor": "#2a3f5f",
             "gridcolor": "white",
             "linecolor": "white",
             "minorgridcolor": "white",
             "startlinecolor": "#2a3f5f"
            },
            "baxis": {
             "endlinecolor": "#2a3f5f",
             "gridcolor": "white",
             "linecolor": "white",
             "minorgridcolor": "white",
             "startlinecolor": "#2a3f5f"
            },
            "type": "carpet"
           }
          ],
          "choropleth": [
           {
            "colorbar": {
             "outlinewidth": 0,
             "ticks": ""
            },
            "type": "choropleth"
           }
          ],
          "contour": [
           {
            "colorbar": {
             "outlinewidth": 0,
             "ticks": ""
            },
            "colorscale": [
             [
              0,
              "#0d0887"
             ],
             [
              0.1111111111111111,
              "#46039f"
             ],
             [
              0.2222222222222222,
              "#7201a8"
             ],
             [
              0.3333333333333333,
              "#9c179e"
             ],
             [
              0.4444444444444444,
              "#bd3786"
             ],
             [
              0.5555555555555556,
              "#d8576b"
             ],
             [
              0.6666666666666666,
              "#ed7953"
             ],
             [
              0.7777777777777778,
              "#fb9f3a"
             ],
             [
              0.8888888888888888,
              "#fdca26"
             ],
             [
              1,
              "#f0f921"
             ]
            ],
            "type": "contour"
           }
          ],
          "contourcarpet": [
           {
            "colorbar": {
             "outlinewidth": 0,
             "ticks": ""
            },
            "type": "contourcarpet"
           }
          ],
          "heatmap": [
           {
            "colorbar": {
             "outlinewidth": 0,
             "ticks": ""
            },
            "colorscale": [
             [
              0,
              "#0d0887"
             ],
             [
              0.1111111111111111,
              "#46039f"
             ],
             [
              0.2222222222222222,
              "#7201a8"
             ],
             [
              0.3333333333333333,
              "#9c179e"
             ],
             [
              0.4444444444444444,
              "#bd3786"
             ],
             [
              0.5555555555555556,
              "#d8576b"
             ],
             [
              0.6666666666666666,
              "#ed7953"
             ],
             [
              0.7777777777777778,
              "#fb9f3a"
             ],
             [
              0.8888888888888888,
              "#fdca26"
             ],
             [
              1,
              "#f0f921"
             ]
            ],
            "type": "heatmap"
           }
          ],
          "histogram": [
           {
            "marker": {
             "pattern": {
              "fillmode": "overlay",
              "size": 10,
              "solidity": 0.2
             }
            },
            "type": "histogram"
           }
          ],
          "histogram2d": [
           {
            "colorbar": {
             "outlinewidth": 0,
             "ticks": ""
            },
            "colorscale": [
             [
              0,
              "#0d0887"
             ],
             [
              0.1111111111111111,
              "#46039f"
             ],
             [
              0.2222222222222222,
              "#7201a8"
             ],
             [
              0.3333333333333333,
              "#9c179e"
             ],
             [
              0.4444444444444444,
              "#bd3786"
             ],
             [
              0.5555555555555556,
              "#d8576b"
             ],
             [
              0.6666666666666666,
              "#ed7953"
             ],
             [
              0.7777777777777778,
              "#fb9f3a"
             ],
             [
              0.8888888888888888,
              "#fdca26"
             ],
             [
              1,
              "#f0f921"
             ]
            ],
            "type": "histogram2d"
           }
          ],
          "histogram2dcontour": [
           {
            "colorbar": {
             "outlinewidth": 0,
             "ticks": ""
            },
            "colorscale": [
             [
              0,
              "#0d0887"
             ],
             [
              0.1111111111111111,
              "#46039f"
             ],
             [
              0.2222222222222222,
              "#7201a8"
             ],
             [
              0.3333333333333333,
              "#9c179e"
             ],
             [
              0.4444444444444444,
              "#bd3786"
             ],
             [
              0.5555555555555556,
              "#d8576b"
             ],
             [
              0.6666666666666666,
              "#ed7953"
             ],
             [
              0.7777777777777778,
              "#fb9f3a"
             ],
             [
              0.8888888888888888,
              "#fdca26"
             ],
             [
              1,
              "#f0f921"
             ]
            ],
            "type": "histogram2dcontour"
           }
          ],
          "mesh3d": [
           {
            "colorbar": {
             "outlinewidth": 0,
             "ticks": ""
            },
            "type": "mesh3d"
           }
          ],
          "parcoords": [
           {
            "line": {
             "colorbar": {
              "outlinewidth": 0,
              "ticks": ""
             }
            },
            "type": "parcoords"
           }
          ],
          "pie": [
           {
            "automargin": true,
            "type": "pie"
           }
          ],
          "scatter": [
           {
            "fillpattern": {
             "fillmode": "overlay",
             "size": 10,
             "solidity": 0.2
            },
            "type": "scatter"
           }
          ],
          "scatter3d": [
           {
            "line": {
             "colorbar": {
              "outlinewidth": 0,
              "ticks": ""
             }
            },
            "marker": {
             "colorbar": {
              "outlinewidth": 0,
              "ticks": ""
             }
            },
            "type": "scatter3d"
           }
          ],
          "scattercarpet": [
           {
            "marker": {
             "colorbar": {
              "outlinewidth": 0,
              "ticks": ""
             }
            },
            "type": "scattercarpet"
           }
          ],
          "scattergeo": [
           {
            "marker": {
             "colorbar": {
              "outlinewidth": 0,
              "ticks": ""
             }
            },
            "type": "scattergeo"
           }
          ],
          "scattergl": [
           {
            "marker": {
             "colorbar": {
              "outlinewidth": 0,
              "ticks": ""
             }
            },
            "type": "scattergl"
           }
          ],
          "scattermap": [
           {
            "marker": {
             "colorbar": {
              "outlinewidth": 0,
              "ticks": ""
             }
            },
            "type": "scattermap"
           }
          ],
          "scattermapbox": [
           {
            "marker": {
             "colorbar": {
              "outlinewidth": 0,
              "ticks": ""
             }
            },
            "type": "scattermapbox"
           }
          ],
          "scatterpolar": [
           {
            "marker": {
             "colorbar": {
              "outlinewidth": 0,
              "ticks": ""
             }
            },
            "type": "scatterpolar"
           }
          ],
          "scatterpolargl": [
           {
            "marker": {
             "colorbar": {
              "outlinewidth": 0,
              "ticks": ""
             }
            },
            "type": "scatterpolargl"
           }
          ],
          "scatterternary": [
           {
            "marker": {
             "colorbar": {
              "outlinewidth": 0,
              "ticks": ""
             }
            },
            "type": "scatterternary"
           }
          ],
          "surface": [
           {
            "colorbar": {
             "outlinewidth": 0,
             "ticks": ""
            },
            "colorscale": [
             [
              0,
              "#0d0887"
             ],
             [
              0.1111111111111111,
              "#46039f"
             ],
             [
              0.2222222222222222,
              "#7201a8"
             ],
             [
              0.3333333333333333,
              "#9c179e"
             ],
             [
              0.4444444444444444,
              "#bd3786"
             ],
             [
              0.5555555555555556,
              "#d8576b"
             ],
             [
              0.6666666666666666,
              "#ed7953"
             ],
             [
              0.7777777777777778,
              "#fb9f3a"
             ],
             [
              0.8888888888888888,
              "#fdca26"
             ],
             [
              1,
              "#f0f921"
             ]
            ],
            "type": "surface"
           }
          ],
          "table": [
           {
            "cells": {
             "fill": {
              "color": "#EBF0F8"
             },
             "line": {
              "color": "white"
             }
            },
            "header": {
             "fill": {
              "color": "#C8D4E3"
             },
             "line": {
              "color": "white"
             }
            },
            "type": "table"
           }
          ]
         },
         "layout": {
          "annotationdefaults": {
           "arrowcolor": "#2a3f5f",
           "arrowhead": 0,
           "arrowwidth": 1
          },
          "autotypenumbers": "strict",
          "coloraxis": {
           "colorbar": {
            "outlinewidth": 0,
            "ticks": ""
           }
          },
          "colorscale": {
           "diverging": [
            [
             0,
             "#8e0152"
            ],
            [
             0.1,
             "#c51b7d"
            ],
            [
             0.2,
             "#de77ae"
            ],
            [
             0.3,
             "#f1b6da"
            ],
            [
             0.4,
             "#fde0ef"
            ],
            [
             0.5,
             "#f7f7f7"
            ],
            [
             0.6,
             "#e6f5d0"
            ],
            [
             0.7,
             "#b8e186"
            ],
            [
             0.8,
             "#7fbc41"
            ],
            [
             0.9,
             "#4d9221"
            ],
            [
             1,
             "#276419"
            ]
           ],
           "sequential": [
            [
             0,
             "#0d0887"
            ],
            [
             0.1111111111111111,
             "#46039f"
            ],
            [
             0.2222222222222222,
             "#7201a8"
            ],
            [
             0.3333333333333333,
             "#9c179e"
            ],
            [
             0.4444444444444444,
             "#bd3786"
            ],
            [
             0.5555555555555556,
             "#d8576b"
            ],
            [
             0.6666666666666666,
             "#ed7953"
            ],
            [
             0.7777777777777778,
             "#fb9f3a"
            ],
            [
             0.8888888888888888,
             "#fdca26"
            ],
            [
             1,
             "#f0f921"
            ]
           ],
           "sequentialminus": [
            [
             0,
             "#0d0887"
            ],
            [
             0.1111111111111111,
             "#46039f"
            ],
            [
             0.2222222222222222,
             "#7201a8"
            ],
            [
             0.3333333333333333,
             "#9c179e"
            ],
            [
             0.4444444444444444,
             "#bd3786"
            ],
            [
             0.5555555555555556,
             "#d8576b"
            ],
            [
             0.6666666666666666,
             "#ed7953"
            ],
            [
             0.7777777777777778,
             "#fb9f3a"
            ],
            [
             0.8888888888888888,
             "#fdca26"
            ],
            [
             1,
             "#f0f921"
            ]
           ]
          },
          "colorway": [
           "#636efa",
           "#EF553B",
           "#00cc96",
           "#ab63fa",
           "#FFA15A",
           "#19d3f3",
           "#FF6692",
           "#B6E880",
           "#FF97FF",
           "#FECB52"
          ],
          "font": {
           "color": "#2a3f5f"
          },
          "geo": {
           "bgcolor": "white",
           "lakecolor": "white",
           "landcolor": "#E5ECF6",
           "showlakes": true,
           "showland": true,
           "subunitcolor": "white"
          },
          "hoverlabel": {
           "align": "left"
          },
          "hovermode": "closest",
          "mapbox": {
           "style": "light"
          },
          "paper_bgcolor": "white",
          "plot_bgcolor": "#E5ECF6",
          "polar": {
           "angularaxis": {
            "gridcolor": "white",
            "linecolor": "white",
            "ticks": ""
           },
           "bgcolor": "#E5ECF6",
           "radialaxis": {
            "gridcolor": "white",
            "linecolor": "white",
            "ticks": ""
           }
          },
          "scene": {
           "xaxis": {
            "backgroundcolor": "#E5ECF6",
            "gridcolor": "white",
            "gridwidth": 2,
            "linecolor": "white",
            "showbackground": true,
            "ticks": "",
            "zerolinecolor": "white"
           },
           "yaxis": {
            "backgroundcolor": "#E5ECF6",
            "gridcolor": "white",
            "gridwidth": 2,
            "linecolor": "white",
            "showbackground": true,
            "ticks": "",
            "zerolinecolor": "white"
           },
           "zaxis": {
            "backgroundcolor": "#E5ECF6",
            "gridcolor": "white",
            "gridwidth": 2,
            "linecolor": "white",
            "showbackground": true,
            "ticks": "",
            "zerolinecolor": "white"
           }
          },
          "shapedefaults": {
           "line": {
            "color": "#2a3f5f"
           }
          },
          "ternary": {
           "aaxis": {
            "gridcolor": "white",
            "linecolor": "white",
            "ticks": ""
           },
           "baxis": {
            "gridcolor": "white",
            "linecolor": "white",
            "ticks": ""
           },
           "bgcolor": "#E5ECF6",
           "caxis": {
            "gridcolor": "white",
            "linecolor": "white",
            "ticks": ""
           }
          },
          "title": {
           "x": 0.05
          },
          "xaxis": {
           "automargin": true,
           "gridcolor": "white",
           "linecolor": "white",
           "ticks": "",
           "title": {
            "standoff": 15
           },
           "zerolinecolor": "white",
           "zerolinewidth": 2
          },
          "yaxis": {
           "automargin": true,
           "gridcolor": "white",
           "linecolor": "white",
           "ticks": "",
           "title": {
            "standoff": 15
           },
           "zerolinecolor": "white",
           "zerolinewidth": 2
          }
         }
        },
        "title": {
         "text": "🛋️ Physical Inactivity by State Over Time"
        },
        "transition": {
         "duration": 500
        },
        "updatemenus": [
         {
          "buttons": [
           {
            "args": [
             null,
             {
              "frame": {
               "duration": 500,
               "redraw": true
              },
              "fromcurrent": true,
              "mode": "immediate",
              "transition": {
               "duration": 500,
               "easing": "linear"
              }
             }
            ],
            "label": "&#9654;",
            "method": "animate"
           },
           {
            "args": [
             [
              null
             ],
             {
              "frame": {
               "duration": 0,
               "redraw": true
              },
              "fromcurrent": true,
              "mode": "immediate",
              "transition": {
               "duration": 0,
               "easing": "linear"
              }
             }
            ],
            "label": "&#9724;",
            "method": "animate"
           }
          ],
          "direction": "left",
          "pad": {
           "r": 10,
           "t": 70
          },
          "showactive": false,
          "type": "buttons",
          "x": 0.1,
          "xanchor": "right",
          "y": 0,
          "yanchor": "top"
         }
        ]
       }
      }
     },
     "metadata": {},
     "output_type": "display_data"
    }
   ],
   "source": [
    "import plotly.express as px\n",
    "\n",
    "# Filter data for Question Q043 (Physical Inactivity), Total stratification\n",
    "map_df = df[\n",
    "    (df['QuestionID'] == 'Q036') &\n",
    "    (df['Stratification1'] == 'Total')\n",
    "][['YearStart', 'LocationAbbr', 'LocationDesc', 'Data_Value']].dropna()\n",
    "\n",
    "# Create animated map\n",
    "fig = px.choropleth(\n",
    "    map_df,\n",
    "    locations='LocationAbbr',\n",
    "    locationmode='USA-states',\n",
    "    color='Data_Value',\n",
    "    hover_name='LocationDesc',\n",
    "    animation_frame='YearStart',  # 👈 Animate over years!\n",
    "    color_continuous_scale='Blues',\n",
    "    scope='usa',\n",
    "    title='🛋️ Physical Inactivity by State Over Time'\n",
    ")\n",
    "\n",
    "fig.update_layout(transition={'duration': 500})\n",
    "fig.show()\n"
   ]
  },
  {
   "cell_type": "code",
   "execution_count": null,
   "metadata": {},
   "outputs": [],
   "source": [
    "import pandas as pd\n",
    "import plotly.express as px\n",
    "\n",
    "df = pd.read_csv('./Data/raw1.csv')\n",
    "df.columns = df.columns.str.strip().str.replace(' ', '_').str.replace(r'[()/]', '', regex=True)\n",
    "\n",
    "# Filter top 5 states by average obesity rate\n",
    "top_states = (\n",
    "    df[df['QuestionID'] == 'Q036']\n",
    "    .query(\"Stratification1 == 'Total'\")\n",
    "    .groupby('LocationDesc')['Data_Value'].mean()\n",
    "    .sort_values(ascending=False).head(5).index.tolist()\n",
    ")\n",
    "\n",
    "obesity_df = df[\n",
    "    (df['QuestionID'] == 'Q036') &\n",
    "    (df['Stratification1'] == 'Total') &\n",
    "    (df['LocationDesc'].isin(top_states))\n",
    "]\n",
    "\n",
    "fig = px.line(\n",
    "    obesity_df,\n",
    "    x='YearStart',\n",
    "    y='Data_Value',\n",
    "    color='LocationDesc',\n",
    "    title='📈 Obesity Rate Trends (Top 5 States)',\n",
    "    markers=True,\n",
    "    labels={'Data_Value': 'Obesity Rate (%)'}\n",
    ")\n",
    "fig.show()\n",
    "\n",
    "import plotly.express as px\n",
    "\n",
    "# Filter data for Question Q043 (Physical Inactivity), Total stratification\n",
    "map_df = df[\n",
    "    (df['QuestionID'] == 'Q036') &\n",
    "    (df['Stratification1'] == 'Total')\n",
    "][['YearStart', 'LocationAbbr', 'LocationDesc', 'Data_Value']].dropna()\n",
    "\n",
    "# Create animated map\n",
    "fig = px.choropleth(\n",
    "    map_df,\n",
    "    locations='LocationAbbr',\n",
    "    locationmode='USA-states',\n",
    "    color='Data_Value',\n",
    "    hover_name='LocationDesc',\n",
    "    animation_frame='YearStart',  # 👈 Animate over years!\n",
    "    color_continuous_scale='Blues',\n",
    "    scope='usa',\n",
    "    title='🛋️ Physical Inactivity by State Over Time'\n",
    ")\n",
    "\n",
    "fig.update_layout(transition={'duration': 500})\n",
    "fig.show()\n",
    "\n"
   ]
  },
  {
   "cell_type": "code",
   "execution_count": null,
   "metadata": {},
   "outputs": [],
   "source": []
  },
  {
   "cell_type": "code",
   "execution_count": null,
   "metadata": {},
   "outputs": [],
   "source": []
  }
 ],
 "metadata": {
  "kernelspec": {
   "display_name": "datascience",
   "language": "python",
   "name": "python3"
  },
  "language_info": {
   "codemirror_mode": {
    "name": "ipython",
    "version": 3
   },
   "file_extension": ".py",
   "mimetype": "text/x-python",
   "name": "python",
   "nbconvert_exporter": "python",
   "pygments_lexer": "ipython3",
   "version": "3.9.21"
  }
 },
 "nbformat": 4,
 "nbformat_minor": 2
}
